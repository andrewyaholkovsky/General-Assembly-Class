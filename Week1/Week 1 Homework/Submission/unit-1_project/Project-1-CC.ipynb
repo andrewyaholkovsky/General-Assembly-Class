{
 "cells": [
  {
   "cell_type": "markdown",
   "metadata": {},
   "source": [
    "<img src=\"http://imgur.com/1ZcRyrc.png\" style=\"float: left; margin: 20px; height: 55px\">\n",
    "\n",
    "# Project 1: Python Coding Exercises\n",
    "\n",
    "_Authors: Joseph Nelson (DC) _\n",
    "\n",
    "---"
   ]
  },
  {
   "cell_type": "markdown",
   "metadata": {},
   "source": [
    "The following code challenges are drawn from common exercises used in technical interviews.\n",
    "\n",
    "Please note that there may be several ways to approach each challenge. If you get stuck, try mapping out your approach in pseudocode first. Finally, while solutions to problems like these may be found online, remember that if you copy/paste code that you can't explain, you'll be missing out on the point of the project. The only way to truly learn a new skill is through practice, trial, and error - we can only help you improve by understanding where you are having trouble."
   ]
  },
  {
   "cell_type": "markdown",
   "metadata": {},
   "source": [
    "### Challenge 1: Largest Palindrome\n",
    "A palindromic number reads the same both ways. For example, 1234321 is a palindrome. The largest palindrome made from the product of two two-digit numbers is 9009 = 91 × 99. Find the largest palindrome made from the product of two three-digit numbers. Afterward, write a brief explanation walking through your code's logic in markdown."
   ]
  },
  {
   "cell_type": "code",
   "execution_count": null,
   "metadata": {
    "collapsed": true
   },
   "outputs": [],
   "source": [
    "def isPalindrome(numberinput):\n",
    "    stringconversion = str(numberinput)\n",
    "    NumberList = []\n",
    "    for i in stringconversion:\n",
    "        NumberList.append(i)\n",
    "    ReverseNumberList = reversed(NumberList)\n",
    "    if NumberList == list(ReverseNumberList):\n",
    "        return True\n",
    "    else:\n",
    "        return False\n",
    "\n",
    "\n",
    "multiplieri = 1\n",
    "multiplierj = 1\n",
    "LargestPalindrome = 0\n",
    "\n",
    "for i in range(100,1000):\n",
    "    for j in range (100,1000):\n",
    "        if isPalindrome(i*j) and i*j > LargestPalindrome:\n",
    "            LargestPalindrome = i*j\n",
    "            multiplieri = i\n",
    "            multiplierj = j\n",
    "        else:\n",
    "            pass\n",
    "            \n",
    "print(\"Largest Palindrome made from the product of 2 3-digit numbers is\",LargestPalindrome, \"and is the product of\",multiplieri,\"and\", multiplierj)\n",
    "\n",
    "#Code Explanation:\n",
    "#I first defined a function (isPalindrome())that tested whether a number is a palindrome.\n",
    "#This function takes a number as the input, converts it to a string, appends each digit of the string to a List,\n",
    "#reverses the List, and then tests if the List is the same forward as it is backwards.\n",
    "#If it is, the function returns True, otherwise, the function returns False. \n",
    "#\n",
    "#\n",
    "#Next, I defined 3 variables:\n",
    "#multiplieri (the first 3 digit number that will make up the largest known palindrome)\n",
    "#multiplierj (the second 3 digit number that will make up the largest known palindrome)\n",
    "#LargestPalindrome (stores the largest known Palindrome)\n",
    "#\n",
    "#\n",
    "#Next, I created 2 for loops that would iterate through all 3 digit integers (100 to 999), and tested if the\n",
    "#product of the 2 numbers was greater than the LargestPalindrome value, if it was, it would become the new \n",
    "#Largest Palindrome\n",
    "#\n",
    "#I then printed the solution"
   ]
  },
  {
   "cell_type": "markdown",
   "metadata": {},
   "source": [
    "\n",
    "### Challenge 2: Summation of Primes\n",
    "The sum of the primes below 10 is 2 + 3 + 5 + 7 = 17. Find the sum of all the primes below 2,000. Afterward, write a brief explanation walking through your code's logic in markdown."
   ]
  },
  {
   "cell_type": "code",
   "execution_count": null,
   "metadata": {
    "collapsed": true
   },
   "outputs": [],
   "source": [
    "def isPrime(input):\n",
    "    for i in range (2,input):\n",
    "        if input % i == 0:\n",
    "            return False\n",
    "        else: \n",
    "            pass\n",
    "    return True\n",
    "\n",
    "PrimesList = []\n",
    "for i in range(2,2000):\n",
    "    if isPrime(i):\n",
    "        PrimesList.append(i)\n",
    "    else:\n",
    "        pass\n",
    "\n",
    "print(\"Sum of all primes below 2000 is\",sum(PrimesList),\"(this is assuming 1 is not prime)\")\n",
    "\n",
    "#Code Explation\n",
    "#\n",
    "#Defined a function \"isPrime\" which returns True if a value inputted is prime by iterating through a list from \n",
    "#2 (the first prime number) and the number itself and checking if the remainder of the input divided by a number\n",
    "#in the list is 0; if it is, it means the number is not prime. If after going through the whole list, no number\n",
    "#has returned a remainder of 0, then the number is prime. \n",
    "#\n",
    "#Then, I created a list variable \"PrimesList\" and iterated through all numbers between 2 (the first prime number)\n",
    "#and 2000 (the requested limit value) and tested if they were prime by using my \"isPrime\" function. If they were \n",
    "#prime, I would append them to my PrimesList. If not, I would pass.\n",
    "#I then took a sum of my PrimesList which answers the question \"Sum of all primes below 2000\""
   ]
  },
  {
   "cell_type": "markdown",
   "metadata": {},
   "source": [
    "### Challenge 3: Multiples of 3 and 5\n",
    "If we list all of the natural numbers below 10 that are multiples of 3 or 5, we get 3, 5, 6, and 9. The sum of these multiples is 23. Find the sum of all the multiples of 3 and 5 below 1,000. Afterward, write a brief explanation walking through your code's logic in markdown."
   ]
  },
  {
   "cell_type": "code",
   "execution_count": null,
   "metadata": {
    "collapsed": true
   },
   "outputs": [],
   "source": [
    "def isMultipleof3 (input):\n",
    "    if input % 3 == 0:\n",
    "        return True\n",
    "    else: \n",
    "        return False\n",
    "\n",
    "def isMultipleof5 (input):\n",
    "    if input % 5 == 0:\n",
    "        return True\n",
    "    else: \n",
    "        return False\n",
    "    \n",
    "sumvalue = 0\n",
    "\n",
    "for i in range (1,1000):\n",
    "    if isMultipleof3(i) or isMultipleof5(i):\n",
    "        sumvalue = sumvalue + i\n",
    "    else:\n",
    "        pass\n",
    "\n",
    "sumvalue\n",
    "\n",
    "#Code Explation\n",
    "#\n",
    "#Defined 2 functionc \"isMultipleof3\" and \"isMultipleof5\" which return True if a value inputted is a multiple of 3 or 5 respectively by \n",
    "#checking if the remainder of the input divided by 3 and 5 respectively is 0\n",
    "#if it is, it means the number is divisible by 3/5 and the function returns True.\n",
    "#If not, it means the number is not divisible by 3/5 and the function returns False. \n",
    "#\n",
    "#Then, I created a new variable \"sumvariable\" and assigned it a value of 0 and then iterated through all numbers between 1 and 999\n",
    "#and tested if they were multiples of 3 OR 5 by using my \"isMultipleof3\" and \"isMultipleof5\" functions. If they were,\n",
    "#I would add it to the sumvalue variable\n",
    "\n"
   ]
  },
  {
   "cell_type": "markdown",
   "metadata": {},
   "source": [
    "### Challenge 4: String Compressor\n",
    "Implement a method to perform basic string compression using the counts of repeated characters. (This is called run-length encoding.) For example, the string \"aabcccccaaa\" would become a2b1c5a3. If the “compressed” string would not become smaller than the original string, your method should return the original string. You can assume the string has only uppercase and lowercase letters (a–z). Specify whether your solution is case sensitive or case insensitive and what you would need to change to make it the other. Afterward, write a brief explanation walking through your code's logic in markdown."
   ]
  },
  {
   "cell_type": "code",
   "execution_count": null,
   "metadata": {
    "collapsed": true
   },
   "outputs": [],
   "source": [
    "inputstring = \"abbbbbbbbbcd\"\n",
    "\n",
    "counter = 1\n",
    "newstring = \"\"\n",
    "\n",
    "\n",
    "for i in range(0,len(inputstring)):\n",
    "    if i == len(inputstring)-1:\n",
    "        newstring = newstring + inputstring[i] + str(counter)\n",
    "    elif inputstring[i] == inputstring[i+1]:\n",
    "        counter += 1\n",
    "    else:\n",
    "        newstring = newstring + inputstring[i] + str(counter)\n",
    "        counter = 1\n",
    "\n",
    "if len(newstring) > len(inputstring):\n",
    "    print(inputstring)\n",
    "else:\n",
    "    print(newstring)\n",
    "    \n",
    "    \n",
    "#Code Explanation (Currently, it IS case sensitive):\n",
    "#\n",
    "#I created2 variables, a counter with a starting value of 1 (assuming there will always be 1 of something in the string)\n",
    "#and \"newstring\" which will be the of compressed string\n",
    "#\n",
    "#I then created a for loop that iterated from index 0 through index(length of the string)\n",
    "#In the conditional cases, I'm essentially checking if the current character is equal to the next character\n",
    "#and if it is, then I increase the counter (because it means there is more than 1 of the same letter in a row)\n",
    "#and if it's not, then I add to the \"newstring\" variable the current indexed letter + the counter which would reflect\n",
    "#the number of that character that we've seen in a row. I then reset the counter to 1.\n",
    "#there is also a conditional case checking if the index is equal to the length of the string - 1 because it means\n",
    "#that we're at the end of the string, and should no matter what add the current indexed letter + the counter to the newstring variable\n",
    "#\n",
    "#finally, I check if the newstring variable is longer than the inputstring; if it is, then I print the original\n",
    "#inputstring. If it is not, then I print the newstring.\n",
    "#\n",
    "#If I didn't want it to be case sensitive, then I would need to convert each side of the conditional statement to\n",
    "#either a capital or lowercase letter. I likely would do this by creating 2 new variables before the conditional\n",
    "#statements in the for loop and assign each of them the lower/uppercase current index of inputstring and the \n",
    "#following (i+1) lower/uppercase of inputstring. \n",
    "\n"
   ]
  },
  {
   "cell_type": "markdown",
   "metadata": {},
   "source": [
    "### *BONUS* Challenge: FizzBuzz\n",
    "Write a program that prints all of the numbers from 1 to 100. For multiples of 3, instead of the number, print \"Fizz;\" for multiples of 5, print \"Buzz.\" For numbers that are multiples of both 3 and 5, print \"FizzBuzz.\" Afterward, write a brief explanation walking through your code's logic in markdown."
   ]
  },
  {
   "cell_type": "code",
   "execution_count": null,
   "metadata": {
    "collapsed": true
   },
   "outputs": [],
   "source": [
    "def isMultipleof3 (input):\n",
    "    if input % 3 == 0:\n",
    "        return True\n",
    "    else: \n",
    "        return False\n",
    "\n",
    "def isMultipleof5 (input):\n",
    "    if input % 5 == 0:\n",
    "        return True\n",
    "    else: \n",
    "        return False\n",
    "\n",
    "for i in range(1,101):\n",
    "    if isMultipleof3(i) and isMultipleof5(i):\n",
    "        print(\"FizzBuzz\")\n",
    "    elif isMultipleof3(i):\n",
    "        print(\"Fizz\")\n",
    "    elif isMultipleof5(i):\n",
    "        print(\"Buzz\")\n",
    "    else:\n",
    "        print(i)\n",
    "        \n",
    "#Code Explanation\n",
    "#used the same functions as Challenge 3\n",
    "#created a for loop and iterated through from 1 to 100\n",
    "#conditional statements testing if i is multiple of 3, multiple of 5, or both and prints the proper respective value.\n",
    "#if none of the conditions are true, it prints i"
   ]
  }
 ],
 "metadata": {
  "anaconda-cloud": {},
  "kernelspec": {
   "display_name": "Python 3",
   "language": "python",
   "name": "python3"
  },
  "language_info": {
   "codemirror_mode": {
    "name": "ipython",
    "version": 3
   },
   "file_extension": ".py",
   "mimetype": "text/x-python",
   "name": "python",
   "nbconvert_exporter": "python",
   "pygments_lexer": "ipython3",
   "version": "3.8.8"
  }
 },
 "nbformat": 4,
 "nbformat_minor": 2
}
