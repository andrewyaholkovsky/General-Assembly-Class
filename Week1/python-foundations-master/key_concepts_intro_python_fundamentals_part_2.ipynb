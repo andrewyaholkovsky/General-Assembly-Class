{
 "cells": [
  {
   "cell_type": "markdown",
   "metadata": {},
   "source": [
    "## Data Types and Associated Methods"
   ]
  },
  {
   "cell_type": "markdown",
   "metadata": {},
   "source": [
    "### string methods\n",
    "there are a bunch https://www.w3schools.com/python/python_ref_string.asp <br />\n",
    "string methods do not modify the original string; they return a new string"
   ]
  },
  {
   "cell_type": "code",
   "execution_count": 4,
   "metadata": {},
   "outputs": [
    {
     "name": "stdout",
     "output_type": "stream",
     "text": [
      "So we beat on, boats against ? current, borne back ceaselessly into ? past.\n",
      "So we beat on, boats against the current, borne back ceaselessly into the past.\n",
      "so we beat on, boats against the current, borne back ceaselessly into the past.\n"
     ]
    }
   ],
   "source": [
    "# create string variable\n",
    "gatsby = \"So we beat on, boats against ? current, borne back ceaselessly into ? past.\"\n",
    "print(gatsby)\n",
    "# to replace the '?' with 'the', we can use a string method called replace\n",
    "\n",
    "gatsby = gatsby.replace('?','the')\n",
    "print(gatsby)\n",
    "gatsby = gatsby.lower()\n",
    "print(gatsby)"
   ]
  },
  {
   "cell_type": "code",
   "execution_count": 5,
   "metadata": {},
   "outputs": [
    {
     "data": {
      "text/plain": [
       "True"
      ]
     },
     "execution_count": 5,
     "metadata": {},
     "output_type": "execute_result"
    }
   ],
   "source": [
    "# create alternate string variable\n",
    "alt_gatsby = 'So we beat on, boats against the current, Borne back ceaselessly into the Past.'\n",
    "\n",
    "# why are gatsby and alt gatsby not equivalent?\n",
    "gatsby==alt_gatsby"
   ]
  },
  {
   "cell_type": "markdown",
   "metadata": {},
   "source": [
    "### Identify the string method required to make gatsby and alt_gatsby equivalent and then implement it"
   ]
  },
  {
   "cell_type": "code",
   "execution_count": 6,
   "metadata": {},
   "outputs": [
    {
     "data": {
      "text/plain": [
       "True"
      ]
     },
     "execution_count": 6,
     "metadata": {},
     "output_type": "execute_result"
    }
   ],
   "source": [
    "# your code here\n",
    "gatsby = gatsby.lower()\n",
    "alt_gatsby = alt_gatsby.lower()\n",
    "# so that this returns True for you\n",
    "gatsby==alt_gatsby"
   ]
  },
  {
   "cell_type": "code",
   "execution_count": null,
   "metadata": {},
   "outputs": [],
   "source": [
    "# indexing strings - characters, not words\n",
    "# we are indexing how many characters?\n",
    "# which characters?\n",
    "gatsby[:5]"
   ]
  },
  {
   "cell_type": "code",
   "execution_count": 7,
   "metadata": {},
   "outputs": [
    {
     "name": "stdout",
     "output_type": "stream",
     "text": [
      "so we beat on, boats against the current, borne back ceaselessly into\n"
     ]
    }
   ],
   "source": [
    "# a negative index - instead of ending at the nth character, end at the nth last character\n",
    "print(gatsby[:-10])"
   ]
  },
  {
   "cell_type": "code",
   "execution_count": 8,
   "metadata": {},
   "outputs": [
    {
     "name": "stdout",
     "output_type": "stream",
     "text": [
      " the past.\n"
     ]
    }
   ],
   "source": [
    "# or start at the nth last character\n",
    "print(gatsby[-10:])"
   ]
  },
  {
   "cell_type": "code",
   "execution_count": null,
   "metadata": {},
   "outputs": [],
   "source": [
    "# concatenating\n",
    "print(gatsby[:-10]+gatsby[-10:])"
   ]
  },
  {
   "cell_type": "markdown",
   "metadata": {},
   "source": [
    "### list methods\n",
    "https://www.w3schools.com/python/python_ref_list.asp <br />\n",
    "list methods *do modify* the original list; they're called inplace methods"
   ]
  },
  {
   "cell_type": "code",
   "execution_count": 23,
   "metadata": {},
   "outputs": [],
   "source": [
    "mix = [12.999, 1, 12, 2, 3]"
   ]
  },
  {
   "cell_type": "code",
   "execution_count": 12,
   "metadata": {},
   "outputs": [],
   "source": [
    "# sorting the list - list methods are inplace\n",
    "mix.sort(reverse=True)"
   ]
  },
  {
   "cell_type": "code",
   "execution_count": 13,
   "metadata": {},
   "outputs": [
    {
     "name": "stdout",
     "output_type": "stream",
     "text": [
      "12.999 1\n"
     ]
    }
   ],
   "source": [
    "# indexing first and last elements in mix\n",
    "print(mix[0],mix[-1])"
   ]
  },
  {
   "cell_type": "markdown",
   "metadata": {},
   "source": [
    "### what list method have we already seen and used to add an element to a list?"
   ]
  },
  {
   "cell_type": "code",
   "execution_count": 24,
   "metadata": {},
   "outputs": [
    {
     "data": {
      "text/plain": [
       "list"
      ]
     },
     "execution_count": 24,
     "metadata": {},
     "output_type": "execute_result"
    }
   ],
   "source": [
    "# add 15 as a new element to mix\n",
    "\n",
    "# what do we do here to add 15?\n",
    "type(mix)"
   ]
  },
  {
   "cell_type": "markdown",
   "metadata": {},
   "source": [
    "### we can also use built-in functions"
   ]
  },
  {
   "cell_type": "code",
   "execution_count": 26,
   "metadata": {},
   "outputs": [
    {
     "name": "stdout",
     "output_type": "stream",
     "text": [
      "30.999000000000002\n"
     ]
    }
   ],
   "source": [
    "# search for how we'd get the sum of a list\n",
    "sumlist = sum(mix)\n",
    "print(sumlist)"
   ]
  },
  {
   "cell_type": "markdown",
   "metadata": {},
   "source": [
    "### dictionaries\n",
    "\n",
    "dictionaries... also have methods https://www.w3schools.com/python/python_ref_dictionary.asp"
   ]
  },
  {
   "cell_type": "code",
   "execution_count": 30,
   "metadata": {},
   "outputs": [
    {
     "data": {
      "text/plain": [
       "{'key': 'value', 'new_key': 'new_value'}"
      ]
     },
     "execution_count": 30,
     "metadata": {},
     "output_type": "execute_result"
    }
   ],
   "source": [
    "# create a dictionary - curly brackets containing key value pairs\n",
    "test = {'key':'value'}\n",
    "# add a new key value pair\n",
    "test['new_key'] = 'new_value'\n",
    "test"
   ]
  },
  {
   "cell_type": "code",
   "execution_count": 28,
   "metadata": {},
   "outputs": [],
   "source": [
    "# add a new key value pair - the value can be any kind of data structure\n",
    "test['bootcamp'] = ['students','materials','coffee']"
   ]
  },
  {
   "cell_type": "code",
   "execution_count": 29,
   "metadata": {},
   "outputs": [
    {
     "data": {
      "text/plain": [
       "['students', 'materials', 'coffee']"
      ]
     },
     "execution_count": 29,
     "metadata": {},
     "output_type": "execute_result"
    }
   ],
   "source": [
    "# dictionaries don't have locations like lists so you index them using a key\n",
    "test['bootcamp']"
   ]
  },
  {
   "cell_type": "code",
   "execution_count": 31,
   "metadata": {},
   "outputs": [
    {
     "data": {
      "text/plain": [
       "{'key': 'value', 'new_key': 'new_value', 'celtics': 'lakers'}"
      ]
     },
     "execution_count": 31,
     "metadata": {},
     "output_type": "execute_result"
    }
   ],
   "source": [
    "# dictionaries have methods too\n",
    "second_dict = {'celtics':'lakers'}\n",
    "test.update(second_dict)\n",
    "test"
   ]
  },
  {
   "cell_type": "markdown",
   "metadata": {},
   "source": [
    "### tuples\n",
    "\n",
    "tuples are like lists but not mutable - we can't modify it after we create it"
   ]
  },
  {
   "cell_type": "code",
   "execution_count": 32,
   "metadata": {},
   "outputs": [
    {
     "data": {
      "text/plain": [
       "('dat', 26)"
      ]
     },
     "execution_count": 32,
     "metadata": {},
     "output_type": "execute_result"
    }
   ],
   "source": [
    "my_tuple = ('dat',26)\n",
    "my_tuple"
   ]
  },
  {
   "cell_type": "code",
   "execution_count": 33,
   "metadata": {},
   "outputs": [
    {
     "data": {
      "text/plain": [
       "'dat'"
      ]
     },
     "execution_count": 33,
     "metadata": {},
     "output_type": "execute_result"
    }
   ],
   "source": [
    "# we can index it just like a list\n",
    "my_tuple[0]"
   ]
  },
  {
   "cell_type": "markdown",
   "metadata": {},
   "source": [
    "## Going Deeper With Control Structures\n",
    "### if statements with multiple conditions"
   ]
  },
  {
   "cell_type": "code",
   "execution_count": 39,
   "metadata": {},
   "outputs": [
    {
     "name": "stdout",
     "output_type": "stream",
     "text": [
      "coach\n"
     ]
    }
   ],
   "source": [
    "# we've seen this example, where we have two conditions\n",
    "\n",
    "# Define the variable for the fare\n",
    "fare = 75\n",
    "\n",
    "# Write an `if… else` statement to check whether you're in coach or business class\n",
    "if fare <=100:\n",
    "    print ('coach')\n",
    "else:\n",
    "    print ('business')"
   ]
  },
  {
   "cell_type": "markdown",
   "metadata": {},
   "source": [
    "### elif means else if. We use it when we have more than one condition but not for the final condition. \n",
    "\n",
    "#### Complete this block to print 'business' for any fare greater than 100 and less than 200 dollars"
   ]
  },
  {
   "cell_type": "code",
   "execution_count": 41,
   "metadata": {},
   "outputs": [
    {
     "name": "stdout",
     "output_type": "stream",
     "text": [
      "business\n"
     ]
    }
   ],
   "source": [
    "# what if there are three fare categories?\n",
    "fare=150\n",
    "if fare <=100:\n",
    "    print ('coach')\n",
    "\n",
    "# your code here\n",
    "elif (fare<=200):\n",
    "    print ('business')\n",
    "\n",
    "else:\n",
    "    print ('first')"
   ]
  },
  {
   "cell_type": "markdown",
   "metadata": {},
   "source": [
    "### while loops"
   ]
  },
  {
   "cell_type": "code",
   "execution_count": 42,
   "metadata": {},
   "outputs": [
    {
     "name": "stdout",
     "output_type": "stream",
     "text": [
      "a\n",
      "b\n",
      "c\n",
      "d\n"
     ]
    }
   ],
   "source": [
    "# loops that run until some condition is met... and run forever if the condition is not met\n",
    "abc_list = ['a','b','c','d']\n",
    "# variable integer indexing the list\n",
    "i=0\n",
    "# iterating through list\n",
    "while i < 4:\n",
    "    print(abc_list[i])\n",
    "    i+=1"
   ]
  },
  {
   "cell_type": "code",
   "execution_count": 44,
   "metadata": {},
   "outputs": [
    {
     "name": "stdout",
     "output_type": "stream",
     "text": [
      "CPU times: user 363 ms, sys: 10.8 ms, total: 374 ms\n",
      "Wall time: 432 ms\n"
     ]
    },
    {
     "data": {
      "text/plain": [
       "500000"
      ]
     },
     "execution_count": 44,
     "metadata": {},
     "output_type": "execute_result"
    }
   ],
   "source": [
    "%%time\n",
    "vowel_counter = 0\n",
    "\n",
    "while vowel_counter<500000:\n",
    "    # iterate through list\n",
    "    for letter in abc_list:\n",
    "        # if letter in vowel list\n",
    "        if letter in ['a','e','i','o','u']:\n",
    "            # add 1 to counter\n",
    "            vowel_counter+=1\n",
    "vowel_counter"
   ]
  },
  {
   "cell_type": "markdown",
   "metadata": {},
   "source": [
    "### try / except"
   ]
  },
  {
   "cell_type": "code",
   "execution_count": 45,
   "metadata": {},
   "outputs": [
    {
     "name": "stdout",
     "output_type": "stream",
     "text": [
      "a\n",
      "b\n",
      "c\n",
      "d\n"
     ]
    },
    {
     "ename": "IndexError",
     "evalue": "list index out of range",
     "output_type": "error",
     "traceback": [
      "\u001b[0;31m---------------------------------------------------------------------------\u001b[0m",
      "\u001b[0;31mIndexError\u001b[0m                                Traceback (most recent call last)",
      "\u001b[0;32m<ipython-input-45-06834260050c>\u001b[0m in \u001b[0;36m<module>\u001b[0;34m\u001b[0m\n\u001b[1;32m      4\u001b[0m \u001b[0;31m# what can we anticipate will happen when we run our loop?\u001b[0m\u001b[0;34m\u001b[0m\u001b[0;34m\u001b[0m\u001b[0;34m\u001b[0m\u001b[0m\n\u001b[1;32m      5\u001b[0m \u001b[0;32mwhile\u001b[0m \u001b[0mi\u001b[0m \u001b[0;34m<\u001b[0m \u001b[0;36m10\u001b[0m\u001b[0;34m:\u001b[0m\u001b[0;34m\u001b[0m\u001b[0;34m\u001b[0m\u001b[0m\n\u001b[0;32m----> 6\u001b[0;31m     \u001b[0mprint\u001b[0m\u001b[0;34m(\u001b[0m\u001b[0mabc_list\u001b[0m\u001b[0;34m[\u001b[0m\u001b[0mi\u001b[0m\u001b[0;34m]\u001b[0m\u001b[0;34m)\u001b[0m\u001b[0;34m\u001b[0m\u001b[0;34m\u001b[0m\u001b[0m\n\u001b[0m\u001b[1;32m      7\u001b[0m     \u001b[0mi\u001b[0m\u001b[0;34m+=\u001b[0m\u001b[0;36m1\u001b[0m\u001b[0;34m\u001b[0m\u001b[0;34m\u001b[0m\u001b[0m\n",
      "\u001b[0;31mIndexError\u001b[0m: list index out of range"
     ]
    }
   ],
   "source": [
    "#without try/except\n",
    "i=0\n",
    "abc_list = ['a','b','c','d']\n",
    "# what can we anticipate will happen when we run our loop?\n",
    "while i < 10:\n",
    "    print(abc_list[i])\n",
    "    i+=1"
   ]
  },
  {
   "cell_type": "code",
   "execution_count": 46,
   "metadata": {},
   "outputs": [
    {
     "name": "stdout",
     "output_type": "stream",
     "text": [
      "a\n",
      "b\n",
      "c\n",
      "d\n"
     ]
    }
   ],
   "source": [
    "i=0\n",
    "abc_list = ['a','b','c','d']\n",
    "# with try / except, we run the code in the try block\n",
    "# when we don't get an error, we run the code in that block\n",
    "while i < 10:\n",
    "    try:\n",
    "        print(abc_list[i])\n",
    "        i+=1\n",
    "    # when we do get an error, isntead of stopping the loop, we run the code in the except block\n",
    "    except:\n",
    "        break"
   ]
  },
  {
   "cell_type": "markdown",
   "metadata": {},
   "source": [
    "### functions"
   ]
  },
  {
   "cell_type": "code",
   "execution_count": null,
   "metadata": {
    "collapsed": true
   },
   "outputs": [],
   "source": [
    "#components of a function\n",
    "def my_function(my_inputs):\n",
    "    # do some stuff in the indented block\n",
    "    return thing_that_I_created, other_thing"
   ]
  },
  {
   "cell_type": "code",
   "execution_count": 3,
   "metadata": {},
   "outputs": [],
   "source": [
    "# define a function that takes a deposit, a number of years, and a rate of interest, \n",
    "# and then calculates the amount of compound interest at the end\n",
    "def compounding(years, deposit, roi):\n",
    "    # duplicate our deposit variable so we can have an incrementing total without losing the initial value\n",
    "    compounding_deposit = deposit\n",
    "    # iterate through the number of years in question\n",
    "    for i in range(1,years+1):\n",
    "        # add interest on the compound amount for each year\n",
    "        compounding_deposit = compounding_deposit+(compounding_deposit*roi)\n",
    "    # calculate total interest by taking the delta between the value with compound interest and the deposit\n",
    "    interest = compounding_deposit-deposit\n",
    "    # return the interest\n",
    "    return interest\n"
   ]
  },
  {
   "cell_type": "markdown",
   "metadata": {},
   "source": [
    "#### if I had 10 years of 7% percent growth, what rate of return can I expect?"
   ]
  },
  {
   "cell_type": "code",
   "execution_count": null,
   "metadata": {},
   "outputs": [],
   "source": [
    "\n",
    "compounding(deposit=?,roi=?,years=?)"
   ]
  },
  {
   "cell_type": "code",
   "execution_count": null,
   "metadata": {},
   "outputs": [],
   "source": []
  }
 ],
 "metadata": {
  "kernelspec": {
   "display_name": "Python 3",
   "language": "python",
   "name": "python3"
  },
  "language_info": {
   "codemirror_mode": {
    "name": "ipython",
    "version": 3
   },
   "file_extension": ".py",
   "mimetype": "text/x-python",
   "name": "python",
   "nbconvert_exporter": "python",
   "pygments_lexer": "ipython3",
   "version": "3.8.8"
  }
 },
 "nbformat": 4,
 "nbformat_minor": 2
}
