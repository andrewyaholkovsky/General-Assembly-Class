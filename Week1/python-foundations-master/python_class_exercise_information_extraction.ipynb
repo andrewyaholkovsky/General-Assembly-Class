{
 "cells": [
  {
   "cell_type": "code",
   "execution_count": 1,
   "id": "6fb71d06",
   "metadata": {},
   "outputs": [
    {
     "data": {
      "text/plain": [
       "'HISTORY OF PRESENT ILLNESS: The patient is a 71-year-old female patient of Dr. X. The patient presented to the emergency room last evening with approximately 7- to 8-day history of abdominal pain which has been persistent. She was seen 3 to 4 days ago at ABC ER and underwent evaluation and discharged and had a CT scan at that time and she was told it was \"normal.\" She was given oral antibiotics of Cipro and Flagyl. She has had no nausea and vomiting, but has had persistent associated anorexia. She is passing flatus, but had some obstipation symptoms with the last bowel movement two days ago. She denies any bright red blood per rectum and no history of recent melena. Her last colonoscopy was approximately 5 years ago with Dr. Y. She has had no definite fevers or chills and no history of jaundice. The patient denies any significant recent weight loss.'"
      ]
     },
     "execution_count": 1,
     "metadata": {},
     "output_type": "execute_result"
    }
   ],
   "source": [
    "train = ('HISTORY OF PRESENT ILLNESS: The patient is a 71-year-old female patient of Dr. X. '\n",
    "        'The patient presented to the emergency room last evening with approximately 7- to 8-day history of '\n",
    "         'abdominal pain which has been persistent. She was seen 3 to 4 days ago at ABC ER and underwent evaluation '\n",
    "         'and discharged and had a CT scan at that time and she was told it was \"normal.\" '\n",
    "         'She was given oral antibiotics of Cipro and Flagyl. She has had no nausea and vomiting, but has had '\n",
    "         'persistent associated anorexia. She is passing flatus, but had some obstipation symptoms with '\n",
    "         'the last bowel movement two days ago. She denies any bright red blood per rectum and no history of recent '\n",
    "         'melena. Her last colonoscopy was approximately 5 years ago with Dr. Y. She has had no definite fevers or '\n",
    "         'chills and no history of jaundice. The patient denies any significant recent weight loss.')"
   ]
  },
  {
   "cell_type": "code",
   "execution_count": 2,
   "id": "ec104dfb",
   "metadata": {},
   "outputs": [],
   "source": [
    "train_ents = ['abdominal pain','CT scan','oral antibiotics','Cipro','Flagyl','nausea','vomiting','anorexia','flatus',\n",
    "       'bright red blood per rectum','melena','colonoscopy','fevers','chills','jaundice','weight loss']"
   ]
  },
  {
   "cell_type": "code",
   "execution_count": 3,
   "id": "7456b28d",
   "metadata": {},
   "outputs": [],
   "source": [
    "# do all of the ents apply to the patient?\n",
    "# what are some ways we could characterize the entities relationship to the patient?"
   ]
  },
  {
   "cell_type": "markdown",
   "id": "5f4a7f50",
   "metadata": {},
   "source": [
    "### resources"
   ]
  },
  {
   "cell_type": "code",
   "execution_count": 7,
   "id": "531c40c6",
   "metadata": {},
   "outputs": [
    {
     "data": {
      "text/plain": [
       "['HISTORY',\n",
       " 'OF',\n",
       " 'PRESENT',\n",
       " 'ILLNESS:',\n",
       " 'The',\n",
       " 'patient',\n",
       " 'is',\n",
       " 'a',\n",
       " '71-year-old',\n",
       " 'female']"
      ]
     },
     "execution_count": 7,
     "metadata": {},
     "output_type": "execute_result"
    }
   ],
   "source": [
    "# split may be a helpful string method\n",
    "train.split()[:10]\n",
    "\n",
    "newsymptomlist[]\n",
    "\n",
    "Split by Period\n",
    "    #left with each sentence\n",
    "    Does the sentence contain (symptoms):\n",
    "        \n",
    "        if there exists a \"no\" or \"denies\" within X number of spaces before the symptoms:\n",
    "            pass on the symptom\n",
    "        \n",
    "            If there is a \"but\"\n",
    "                stop deleting\n",
    "\n",
    "\n",
    "\n",
    "Logic: \n",
    "\n",
    "\n",
    "\n"
   ]
  },
  {
   "cell_type": "code",
   "execution_count": 12,
   "id": "b4331142",
   "metadata": {},
   "outputs": [
    {
     "data": {
      "text/plain": [
       "[0, 28, 116, 141]"
      ]
     },
     "execution_count": 12,
     "metadata": {},
     "output_type": "execute_result"
    }
   ],
   "source": [
    "# one way to find the indices of each occurrence of a term in a list\n",
    "[i for i, x in enumerate(train.split()) if x.lower() == \"history\"]"
   ]
  },
  {
   "cell_type": "markdown",
   "id": "27eb46d8",
   "metadata": {},
   "source": [
    "### write a function to identify the negated entities in train without pulling in other entities"
   ]
  },
  {
   "cell_type": "code",
   "execution_count": 4,
   "id": "831299d9",
   "metadata": {},
   "outputs": [],
   "source": [
    "# start by pseudocoding (writing out how you think the function should run) the problem"
   ]
  },
  {
   "cell_type": "markdown",
   "id": "a414ccad",
   "metadata": {},
   "source": [
    "## bonus - apply your solution to the test case"
   ]
  },
  {
   "cell_type": "code",
   "execution_count": 5,
   "id": "11954fc9",
   "metadata": {},
   "outputs": [
    {
     "data": {
      "text/plain": [
       "'REVIEW OF SYSTEMS: She has recently been to the eye doctor. She has noticed some hearing loss gradually. She denies any problems with swallowing. She denies episodes of shortness of breath, although she has had a little bit of chronic cough. She has had normal bowel movements. Denies any black or bloody stools, diarrhea, or constipation. Denies seeing blood in her urine and has had no urinary problems other than what is stated above. She has had no problems with edema or lower extremity numbness or tingling.'"
      ]
     },
     "execution_count": 5,
     "metadata": {},
     "output_type": "execute_result"
    }
   ],
   "source": [
    "test = ('REVIEW OF SYSTEMS: She has recently been to the eye doctor. She has noticed some hearing loss gradually. '\n",
    "        'She denies any problems with swallowing. She denies episodes of shortness of breath, although she has had a '\n",
    "        'little bit of chronic cough. She has had normal bowel movements. Denies any black or bloody stools, diarrhea, '\n",
    "        'or constipation. Denies seeing blood in her urine and has had no urinary problems other than what is stated '\n",
    "        'above. She has had no problems with edema or lower extremity numbness or tingling.')\n",
    "test"
   ]
  },
  {
   "cell_type": "code",
   "execution_count": null,
   "id": "ea8f2906",
   "metadata": {},
   "outputs": [],
   "source": [
    "ents = test_ents = ['hearing_loss','problems with swallowing','episodes of shortness of breath','chronic cough',\n",
    "                    'bloody stools','diarrhea','constipation','blood in her urine','urinary problems',\n",
    "                    'lower extremity numbness','edema','tingling']"
   ]
  },
  {
   "cell_type": "code",
   "execution_count": null,
   "id": "eb5999f2",
   "metadata": {},
   "outputs": [],
   "source": []
  }
 ],
 "metadata": {
  "kernelspec": {
   "display_name": "Python 3",
   "language": "python",
   "name": "python3"
  },
  "language_info": {
   "codemirror_mode": {
    "name": "ipython",
    "version": 3
   },
   "file_extension": ".py",
   "mimetype": "text/x-python",
   "name": "python",
   "nbconvert_exporter": "python",
   "pygments_lexer": "ipython3",
   "version": "3.8.8"
  }
 },
 "nbformat": 4,
 "nbformat_minor": 5
}
