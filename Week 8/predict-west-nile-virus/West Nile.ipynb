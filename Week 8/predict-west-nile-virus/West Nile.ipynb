{
 "cells": [
  {
   "cell_type": "code",
   "execution_count": 19,
   "id": "dda02d83",
   "metadata": {},
   "outputs": [],
   "source": [
    "import pandas as pd\n",
    "import numpy as np\n",
    "import matplotlib.pyplot as plt\n",
    "\n",
    "%matplotlib inline"
   ]
  },
  {
   "cell_type": "code",
   "execution_count": 128,
   "id": "f8abe4a1",
   "metadata": {},
   "outputs": [],
   "source": [
    "dataset = '../predict-west-nile-virus/train.csv'\n",
    "sample_train = pd.read_csv(dataset)"
   ]
  },
  {
   "cell_type": "code",
   "execution_count": 32,
   "id": "97be6494",
   "metadata": {},
   "outputs": [
    {
     "data": {
      "text/plain": [
       "Index(['Date', 'Address', 'Species', 'Block', 'Street', 'Trap',\n",
       "       'AddressNumberAndStreet', 'Latitude', 'Longitude', 'AddressAccuracy',\n",
       "       'NumMosquitos', 'WnvPresent'],\n",
       "      dtype='object')"
      ]
     },
     "execution_count": 32,
     "metadata": {},
     "output_type": "execute_result"
    }
   ],
   "source": [
    "train.columns"
   ]
  },
  {
   "cell_type": "code",
   "execution_count": 34,
   "id": "ab8e3f9f",
   "metadata": {},
   "outputs": [
    {
     "data": {
      "text/plain": [
       "50"
      ]
     },
     "execution_count": 34,
     "metadata": {},
     "output_type": "execute_result"
    }
   ],
   "source": [
    "len(train.NumMosquitos.unique())"
   ]
  },
  {
   "cell_type": "code",
   "execution_count": 35,
   "id": "d0303730",
   "metadata": {},
   "outputs": [
    {
     "data": {
      "text/plain": [
       "128"
      ]
     },
     "execution_count": 35,
     "metadata": {},
     "output_type": "execute_result"
    }
   ],
   "source": [
    "len(train.Street.unique())"
   ]
  },
  {
   "cell_type": "code",
   "execution_count": 36,
   "id": "c294bf76",
   "metadata": {},
   "outputs": [
    {
     "data": {
      "text/plain": [
       "64"
      ]
     },
     "execution_count": 36,
     "metadata": {},
     "output_type": "execute_result"
    }
   ],
   "source": [
    "len(train.Block.unique())"
   ]
  },
  {
   "cell_type": "code",
   "execution_count": 39,
   "id": "09354785",
   "metadata": {},
   "outputs": [
    {
     "data": {
      "text/plain": [
       "4"
      ]
     },
     "execution_count": 39,
     "metadata": {},
     "output_type": "execute_result"
    }
   ],
   "source": [
    "len(train.AddressAccuracy.unique())"
   ]
  },
  {
   "cell_type": "code",
   "execution_count": 40,
   "id": "882fcf55",
   "metadata": {},
   "outputs": [
    {
     "data": {
      "text/plain": [
       "array([9, 8, 5, 3])"
      ]
     },
     "execution_count": 40,
     "metadata": {},
     "output_type": "execute_result"
    }
   ],
   "source": [
    "train.AddressAccuracy.unique()"
   ]
  },
  {
   "cell_type": "code",
   "execution_count": 41,
   "id": "c5f16745",
   "metadata": {},
   "outputs": [
    {
     "data": {
      "text/plain": [
       "7"
      ]
     },
     "execution_count": 41,
     "metadata": {},
     "output_type": "execute_result"
    }
   ],
   "source": [
    "len(train.Species.unique())"
   ]
  },
  {
   "cell_type": "code",
   "execution_count": 42,
   "id": "dd2d4d31",
   "metadata": {
    "scrolled": true
   },
   "outputs": [
    {
     "data": {
      "text/plain": [
       "array(['CULEX PIPIENS/RESTUANS', 'CULEX RESTUANS', 'CULEX PIPIENS',\n",
       "       'CULEX SALINARIUS', 'CULEX TERRITANS', 'CULEX TARSALIS',\n",
       "       'CULEX ERRATICUS'], dtype=object)"
      ]
     },
     "execution_count": 42,
     "metadata": {},
     "output_type": "execute_result"
    }
   ],
   "source": [
    "train.Species.unique()"
   ]
  },
  {
   "cell_type": "code",
   "execution_count": 48,
   "id": "6e898757",
   "metadata": {},
   "outputs": [
    {
     "data": {
      "text/plain": [
       "0        4100 North Oak Park Avenue, Chicago, IL 60634,...\n",
       "1        4100 North Oak Park Avenue, Chicago, IL 60634,...\n",
       "2        6200 North Mandell Avenue, Chicago, IL 60646, USA\n",
       "3          7900 West Foster Avenue, Chicago, IL 60656, USA\n",
       "4          7900 West Foster Avenue, Chicago, IL 60656, USA\n",
       "                               ...                        \n",
       "10501        5100 West 72nd Street, Chicago, IL 60638, USA\n",
       "10502      5800 North Ridge Avenue, Chicago, IL 60660, USA\n",
       "10503    1700 North Ashland Avenue, Chicago, IL 60622, USA\n",
       "10504     7100 North Harlem Avenue, Chicago, IL 60631, USA\n",
       "10505        4200 West 65th Street, Chicago, IL 60621, USA\n",
       "Name: Address, Length: 10506, dtype: object"
      ]
     },
     "execution_count": 48,
     "metadata": {},
     "output_type": "execute_result"
    }
   ],
   "source": [
    "train.Address"
   ]
  },
  {
   "cell_type": "code",
   "execution_count": 66,
   "id": "94072e43",
   "metadata": {},
   "outputs": [],
   "source": [
    "sample_train['OnMyWayToZip'] = sample_train['Address'].str[-10:]\n",
    "sample_train['Zip'] = sample_train[\"OnMyWayToZip\"].str[:5]"
   ]
  },
  {
   "cell_type": "code",
   "execution_count": 68,
   "id": "78374056",
   "metadata": {},
   "outputs": [
    {
     "data": {
      "text/plain": [
       "0        60634, USA\n",
       "1        60634, USA\n",
       "2        60646, USA\n",
       "3        60656, USA\n",
       "4        60656, USA\n",
       "            ...    \n",
       "10501    60638, USA\n",
       "10502    60660, USA\n",
       "10503    60622, USA\n",
       "10504    60631, USA\n",
       "10505    60621, USA\n",
       "Name: OnMyWayToZip, Length: 10506, dtype: object"
      ]
     },
     "execution_count": 68,
     "metadata": {},
     "output_type": "execute_result"
    }
   ],
   "source": [
    "sample_train.OnMyWayToZip"
   ]
  },
  {
   "cell_type": "code",
   "execution_count": 77,
   "id": "24068a40",
   "metadata": {},
   "outputs": [
    {
     "data": {
      "text/plain": [
       "51"
      ]
     },
     "execution_count": 77,
     "metadata": {},
     "output_type": "execute_result"
    }
   ],
   "source": [
    "len(sample_train.Zip.unique())"
   ]
  },
  {
   "cell_type": "code",
   "execution_count": 74,
   "id": "f4048025",
   "metadata": {},
   "outputs": [
    {
     "ename": "TypeError",
     "evalue": "'method' object is not subscriptable",
     "output_type": "error",
     "traceback": [
      "\u001b[0;31m---------------------------------------------------------------------------\u001b[0m",
      "\u001b[0;31mTypeError\u001b[0m                                 Traceback (most recent call last)",
      "\u001b[0;32m<ipython-input-74-3ea7168ebb7b>\u001b[0m in \u001b[0;36m<module>\u001b[0;34m\u001b[0m\n\u001b[0;32m----> 1\u001b[0;31m \u001b[0msample_train\u001b[0m\u001b[0;34m.\u001b[0m\u001b[0mgroupby\u001b[0m\u001b[0;34m[\u001b[0m\u001b[0;34m'Zip'\u001b[0m\u001b[0;34m]\u001b[0m\u001b[0;34m\u001b[0m\u001b[0;34m\u001b[0m\u001b[0m\n\u001b[0m",
      "\u001b[0;31mTypeError\u001b[0m: 'method' object is not subscriptable"
     ]
    }
   ],
   "source": [
    "sample_train.groupby['Zip']"
   ]
  },
  {
   "cell_type": "code",
   "execution_count": 84,
   "id": "df7506b2",
   "metadata": {},
   "outputs": [
    {
     "data": {
      "text/plain": [
       "136"
      ]
     },
     "execution_count": 84,
     "metadata": {},
     "output_type": "execute_result"
    }
   ],
   "source": [
    "len(sample_train.Trap.unique())"
   ]
  },
  {
   "cell_type": "code",
   "execution_count": 104,
   "id": "94b39c31",
   "metadata": {},
   "outputs": [
    {
     "data": {
      "text/plain": [
       "64"
      ]
     },
     "execution_count": 104,
     "metadata": {},
     "output_type": "execute_result"
    }
   ],
   "source": [
    "len(sample_train.Block.unique())"
   ]
  },
  {
   "cell_type": "code",
   "execution_count": 105,
   "id": "0f65d825",
   "metadata": {},
   "outputs": [
    {
     "data": {
      "text/plain": [
       "51"
      ]
     },
     "execution_count": 105,
     "metadata": {},
     "output_type": "execute_result"
    }
   ],
   "source": [
    "len(sample_train.Zip.unique())"
   ]
  },
  {
   "cell_type": "code",
   "execution_count": 86,
   "id": "79cf1626",
   "metadata": {},
   "outputs": [
    {
     "data": {
      "text/plain": [
       "Trap\n",
       "T900     66\n",
       "T115     41\n",
       "T002     18\n",
       "T138     16\n",
       "T003     14\n",
       "         ..\n",
       "T075      0\n",
       "T094B     0\n",
       "T072      0\n",
       "T071      0\n",
       "T001      0\n",
       "Name: WnvPresent, Length: 136, dtype: int64"
      ]
     },
     "execution_count": 86,
     "metadata": {},
     "output_type": "execute_result"
    }
   ],
   "source": [
    "sample_train.groupby(['Trap'])['WnvPresent'].sum().sort_values(ascending=False)"
   ]
  },
  {
   "cell_type": "code",
   "execution_count": 92,
   "id": "21ffd22e",
   "metadata": {},
   "outputs": [
    {
     "data": {
      "text/plain": [
       "Trap\n",
       "T900     66\n",
       "T115     41\n",
       "T002     18\n",
       "T138     16\n",
       "T003     14\n",
       "         ..\n",
       "T075      0\n",
       "T094B     0\n",
       "T072      0\n",
       "T071      0\n",
       "T001      0\n",
       "Name: WnvPresent, Length: 136, dtype: int64"
      ]
     },
     "execution_count": 92,
     "metadata": {},
     "output_type": "execute_result"
    }
   ],
   "source": [
    "sample_train.groupby(['Trap'])['WnvPresent'].sum().sort_values(ascending=False)"
   ]
  },
  {
   "cell_type": "code",
   "execution_count": 98,
   "id": "daea33f6",
   "metadata": {},
   "outputs": [
    {
     "data": {
      "text/plain": [
       "Trap\n",
       "T001     15\n",
       "T002    185\n",
       "T003    122\n",
       "T004     12\n",
       "T005     14\n",
       "       ... \n",
       "T236     33\n",
       "T237      3\n",
       "T238      7\n",
       "T900    750\n",
       "T903    140\n",
       "Name: NumMosquitos, Length: 136, dtype: int64"
      ]
     },
     "execution_count": 98,
     "metadata": {},
     "output_type": "execute_result"
    }
   ],
   "source": [
    "sample_train.groupby(['Trap'])['NumMosquitos'].count()"
   ]
  },
  {
   "cell_type": "code",
   "execution_count": 100,
   "id": "eb22a2da",
   "metadata": {},
   "outputs": [
    {
     "data": {
      "text/plain": [
       "Zip\n",
       "o, IL    1508\n",
       "60666     750\n",
       "60617     734\n",
       "60634     502\n",
       "60638     455\n",
       "60646     393\n",
       "60609     375\n",
       "60643     321\n",
       "60608     300\n",
       "60639     265\n",
       "60622     238\n",
       "60655     237\n",
       "60651     232\n",
       "60632     230\n",
       "60623     223\n",
       "60618     214\n",
       "60614     207\n",
       "60707     185\n",
       "60630     183\n",
       "60803     183\n",
       "60631     171\n",
       "60637     166\n",
       "60612     157\n",
       "60656     153\n",
       "60607     151\n",
       "60106     140\n",
       "60629     137\n",
       "60652     126\n",
       "60659     117\n",
       "60619     113\n",
       "60633     112\n",
       "60620     111\n",
       "60654     110\n",
       "60625      98\n",
       "60636      91\n",
       "60641      89\n",
       "60626      85\n",
       "60642      85\n",
       "60649      83\n",
       "60018      80\n",
       "60645      69\n",
       "60621      62\n",
       "60660      56\n",
       "60613      54\n",
       "60611      29\n",
       "60605      26\n",
       "60628      25\n",
       "60640      21\n",
       "60615      20\n",
       "60647      17\n",
       "60827      17\n",
       "Name: Trap, dtype: int64"
      ]
     },
     "execution_count": 100,
     "metadata": {},
     "output_type": "execute_result"
    }
   ],
   "source": [
    "sample_train.groupby(['Zip'])['Trap'].count().sort_values(ascending=False)"
   ]
  },
  {
   "cell_type": "code",
   "execution_count": 101,
   "id": "c33674ea",
   "metadata": {},
   "outputs": [
    {
     "data": {
      "text/plain": [
       "Zip\n",
       "o, IL    79\n",
       "60666    66\n",
       "60634    34\n",
       "60617    28\n",
       "60631    24\n",
       "60646    22\n",
       "60609    21\n",
       "60638    21\n",
       "60643    19\n",
       "60639    17\n",
       "60656    16\n",
       "60651    15\n",
       "60630    14\n",
       "60655    11\n",
       "60652    11\n",
       "60622    11\n",
       "60614    10\n",
       "60618    10\n",
       "60106    10\n",
       "60632    10\n",
       "60659     9\n",
       "60633     9\n",
       "60803     8\n",
       "60629     7\n",
       "60621     7\n",
       "60707     7\n",
       "60607     7\n",
       "60608     6\n",
       "60018     6\n",
       "60637     5\n",
       "60623     5\n",
       "60620     4\n",
       "60625     4\n",
       "60660     4\n",
       "60612     3\n",
       "60619     3\n",
       "60641     2\n",
       "60628     1\n",
       "60649     1\n",
       "60613     1\n",
       "60636     1\n",
       "60642     1\n",
       "60827     1\n",
       "60645     0\n",
       "60647     0\n",
       "60654     0\n",
       "60611     0\n",
       "60605     0\n",
       "60640     0\n",
       "60626     0\n",
       "60615     0\n",
       "Name: WnvPresent, dtype: int64"
      ]
     },
     "execution_count": 101,
     "metadata": {},
     "output_type": "execute_result"
    }
   ],
   "source": [
    "sample_train.groupby(['Zip'])['WnvPresent'].sum().sort_values(ascending=False)"
   ]
  },
  {
   "cell_type": "code",
   "execution_count": 102,
   "id": "a700bd97",
   "metadata": {},
   "outputs": [
    {
     "data": {
      "text/plain": [
       "Block\n",
       "10    111\n",
       "12     41\n",
       "22     29\n",
       "11     26\n",
       "58     20\n",
       "     ... \n",
       "34      0\n",
       "29      0\n",
       "27      0\n",
       "18      0\n",
       "98      0\n",
       "Name: WnvPresent, Length: 64, dtype: int64"
      ]
     },
     "execution_count": 102,
     "metadata": {},
     "output_type": "execute_result"
    }
   ],
   "source": [
    "sample_train.groupby(['Block'])['WnvPresent'].sum().sort_values(ascending=False)"
   ]
  },
  {
   "cell_type": "code",
   "execution_count": 107,
   "id": "614e611a",
   "metadata": {},
   "outputs": [
    {
     "data": {
      "text/plain": [
       "Street\n",
       " W OHARE AIRPORT       750\n",
       " S DOTY AVE            542\n",
       " S STONY ISLAND AVE    347\n",
       " S ASHLAND AVE         266\n",
       " N OAK PARK AVE        216\n",
       "                      ... \n",
       " S RACINE AVE            8\n",
       " W 77TH ST               7\n",
       " S LONGWOOD DR           5\n",
       " W 85TH ST               3\n",
       " S HAMLIN AVE            2\n",
       "Name: Block, Length: 128, dtype: int64"
      ]
     },
     "execution_count": 107,
     "metadata": {},
     "output_type": "execute_result"
    }
   ],
   "source": [
    "sample_train.groupby(['Street'])['Block'].count().sort_values(ascending=False)"
   ]
  },
  {
   "cell_type": "code",
   "execution_count": 108,
   "id": "be45b8ee",
   "metadata": {},
   "outputs": [
    {
     "data": {
      "text/plain": [
       "Block\n",
       "10    1722\n",
       "11     736\n",
       "12     605\n",
       "22     500\n",
       "13     345\n",
       "      ... \n",
       "27      17\n",
       "80      13\n",
       "34       7\n",
       "55       5\n",
       "29       3\n",
       "Name: Street, Length: 64, dtype: int64"
      ]
     },
     "execution_count": 108,
     "metadata": {},
     "output_type": "execute_result"
    }
   ],
   "source": [
    "sample_train.groupby(['Block'])['Street'].count().sort_values(ascending=False)"
   ]
  },
  {
   "cell_type": "code",
   "execution_count": 110,
   "id": "132e5dc2",
   "metadata": {},
   "outputs": [],
   "source": [
    "sample_train['test'] = sample_train['Latitude']"
   ]
  },
  {
   "cell_type": "markdown",
   "id": "8ebfc620",
   "metadata": {},
   "source": [
    "sample_train"
   ]
  },
  {
   "cell_type": "code",
   "execution_count": 113,
   "id": "234a5692",
   "metadata": {},
   "outputs": [
    {
     "data": {
      "text/html": [
       "<div>\n",
       "<style scoped>\n",
       "    .dataframe tbody tr th:only-of-type {\n",
       "        vertical-align: middle;\n",
       "    }\n",
       "\n",
       "    .dataframe tbody tr th {\n",
       "        vertical-align: top;\n",
       "    }\n",
       "\n",
       "    .dataframe thead th {\n",
       "        text-align: right;\n",
       "    }\n",
       "</style>\n",
       "<table border=\"1\" class=\"dataframe\">\n",
       "  <thead>\n",
       "    <tr style=\"text-align: right;\">\n",
       "      <th></th>\n",
       "      <th>Date</th>\n",
       "      <th>Address</th>\n",
       "      <th>Species</th>\n",
       "      <th>Block</th>\n",
       "      <th>Street</th>\n",
       "      <th>Trap</th>\n",
       "      <th>AddressNumberAndStreet</th>\n",
       "      <th>Latitude</th>\n",
       "      <th>Longitude</th>\n",
       "      <th>AddressAccuracy</th>\n",
       "      <th>NumMosquitos</th>\n",
       "      <th>WnvPresent</th>\n",
       "      <th>OnMyWayToZip</th>\n",
       "      <th>Zip</th>\n",
       "    </tr>\n",
       "  </thead>\n",
       "  <tbody>\n",
       "    <tr>\n",
       "      <th>0</th>\n",
       "      <td>2007-05-29</td>\n",
       "      <td>4100 North Oak Park Avenue, Chicago, IL 60634,...</td>\n",
       "      <td>CULEX PIPIENS/RESTUANS</td>\n",
       "      <td>41</td>\n",
       "      <td>N OAK PARK AVE</td>\n",
       "      <td>T002</td>\n",
       "      <td>4100  N OAK PARK AVE, Chicago, IL</td>\n",
       "      <td>41.954690</td>\n",
       "      <td>-87.800991</td>\n",
       "      <td>9</td>\n",
       "      <td>1</td>\n",
       "      <td>0</td>\n",
       "      <td>60634, USA</td>\n",
       "      <td>60634</td>\n",
       "    </tr>\n",
       "    <tr>\n",
       "      <th>1</th>\n",
       "      <td>2007-05-29</td>\n",
       "      <td>4100 North Oak Park Avenue, Chicago, IL 60634,...</td>\n",
       "      <td>CULEX RESTUANS</td>\n",
       "      <td>41</td>\n",
       "      <td>N OAK PARK AVE</td>\n",
       "      <td>T002</td>\n",
       "      <td>4100  N OAK PARK AVE, Chicago, IL</td>\n",
       "      <td>41.954690</td>\n",
       "      <td>-87.800991</td>\n",
       "      <td>9</td>\n",
       "      <td>1</td>\n",
       "      <td>0</td>\n",
       "      <td>60634, USA</td>\n",
       "      <td>60634</td>\n",
       "    </tr>\n",
       "    <tr>\n",
       "      <th>2</th>\n",
       "      <td>2007-05-29</td>\n",
       "      <td>6200 North Mandell Avenue, Chicago, IL 60646, USA</td>\n",
       "      <td>CULEX RESTUANS</td>\n",
       "      <td>62</td>\n",
       "      <td>N MANDELL AVE</td>\n",
       "      <td>T007</td>\n",
       "      <td>6200  N MANDELL AVE, Chicago, IL</td>\n",
       "      <td>41.994991</td>\n",
       "      <td>-87.769279</td>\n",
       "      <td>9</td>\n",
       "      <td>1</td>\n",
       "      <td>0</td>\n",
       "      <td>60646, USA</td>\n",
       "      <td>60646</td>\n",
       "    </tr>\n",
       "    <tr>\n",
       "      <th>3</th>\n",
       "      <td>2007-05-29</td>\n",
       "      <td>7900 West Foster Avenue, Chicago, IL 60656, USA</td>\n",
       "      <td>CULEX PIPIENS/RESTUANS</td>\n",
       "      <td>79</td>\n",
       "      <td>W FOSTER AVE</td>\n",
       "      <td>T015</td>\n",
       "      <td>7900  W FOSTER AVE, Chicago, IL</td>\n",
       "      <td>41.974089</td>\n",
       "      <td>-87.824812</td>\n",
       "      <td>8</td>\n",
       "      <td>1</td>\n",
       "      <td>0</td>\n",
       "      <td>60656, USA</td>\n",
       "      <td>60656</td>\n",
       "    </tr>\n",
       "    <tr>\n",
       "      <th>4</th>\n",
       "      <td>2007-05-29</td>\n",
       "      <td>7900 West Foster Avenue, Chicago, IL 60656, USA</td>\n",
       "      <td>CULEX RESTUANS</td>\n",
       "      <td>79</td>\n",
       "      <td>W FOSTER AVE</td>\n",
       "      <td>T015</td>\n",
       "      <td>7900  W FOSTER AVE, Chicago, IL</td>\n",
       "      <td>41.974089</td>\n",
       "      <td>-87.824812</td>\n",
       "      <td>8</td>\n",
       "      <td>4</td>\n",
       "      <td>0</td>\n",
       "      <td>60656, USA</td>\n",
       "      <td>60656</td>\n",
       "    </tr>\n",
       "    <tr>\n",
       "      <th>...</th>\n",
       "      <td>...</td>\n",
       "      <td>...</td>\n",
       "      <td>...</td>\n",
       "      <td>...</td>\n",
       "      <td>...</td>\n",
       "      <td>...</td>\n",
       "      <td>...</td>\n",
       "      <td>...</td>\n",
       "      <td>...</td>\n",
       "      <td>...</td>\n",
       "      <td>...</td>\n",
       "      <td>...</td>\n",
       "      <td>...</td>\n",
       "      <td>...</td>\n",
       "    </tr>\n",
       "    <tr>\n",
       "      <th>10501</th>\n",
       "      <td>2013-09-26</td>\n",
       "      <td>5100 West 72nd Street, Chicago, IL 60638, USA</td>\n",
       "      <td>CULEX PIPIENS/RESTUANS</td>\n",
       "      <td>51</td>\n",
       "      <td>W 72ND ST</td>\n",
       "      <td>T035</td>\n",
       "      <td>5100  W 72ND ST, Chicago, IL</td>\n",
       "      <td>41.763733</td>\n",
       "      <td>-87.742302</td>\n",
       "      <td>8</td>\n",
       "      <td>6</td>\n",
       "      <td>1</td>\n",
       "      <td>60638, USA</td>\n",
       "      <td>60638</td>\n",
       "    </tr>\n",
       "    <tr>\n",
       "      <th>10502</th>\n",
       "      <td>2013-09-26</td>\n",
       "      <td>5800 North Ridge Avenue, Chicago, IL 60660, USA</td>\n",
       "      <td>CULEX PIPIENS/RESTUANS</td>\n",
       "      <td>58</td>\n",
       "      <td>N RIDGE AVE</td>\n",
       "      <td>T231</td>\n",
       "      <td>5800  N RIDGE AVE, Chicago, IL</td>\n",
       "      <td>41.987280</td>\n",
       "      <td>-87.666066</td>\n",
       "      <td>8</td>\n",
       "      <td>5</td>\n",
       "      <td>0</td>\n",
       "      <td>60660, USA</td>\n",
       "      <td>60660</td>\n",
       "    </tr>\n",
       "    <tr>\n",
       "      <th>10503</th>\n",
       "      <td>2013-09-26</td>\n",
       "      <td>1700 North Ashland Avenue, Chicago, IL 60622, USA</td>\n",
       "      <td>CULEX PIPIENS/RESTUANS</td>\n",
       "      <td>17</td>\n",
       "      <td>N ASHLAND AVE</td>\n",
       "      <td>T232</td>\n",
       "      <td>1700  N ASHLAND AVE, Chicago, IL</td>\n",
       "      <td>41.912563</td>\n",
       "      <td>-87.668055</td>\n",
       "      <td>9</td>\n",
       "      <td>1</td>\n",
       "      <td>0</td>\n",
       "      <td>60622, USA</td>\n",
       "      <td>60622</td>\n",
       "    </tr>\n",
       "    <tr>\n",
       "      <th>10504</th>\n",
       "      <td>2013-09-26</td>\n",
       "      <td>7100 North Harlem Avenue, Chicago, IL 60631, USA</td>\n",
       "      <td>CULEX PIPIENS/RESTUANS</td>\n",
       "      <td>71</td>\n",
       "      <td>N HARLEM AVE</td>\n",
       "      <td>T233</td>\n",
       "      <td>7100  N HARLEM AVE, Chicago, IL</td>\n",
       "      <td>42.009876</td>\n",
       "      <td>-87.807277</td>\n",
       "      <td>9</td>\n",
       "      <td>5</td>\n",
       "      <td>0</td>\n",
       "      <td>60631, USA</td>\n",
       "      <td>60631</td>\n",
       "    </tr>\n",
       "    <tr>\n",
       "      <th>10505</th>\n",
       "      <td>2013-09-26</td>\n",
       "      <td>4200 West 65th Street, Chicago, IL 60621, USA</td>\n",
       "      <td>CULEX PIPIENS/RESTUANS</td>\n",
       "      <td>42</td>\n",
       "      <td>W 65TH ST</td>\n",
       "      <td>T235</td>\n",
       "      <td>4200  W 65TH ST, Chicago, IL</td>\n",
       "      <td>41.776428</td>\n",
       "      <td>-87.627096</td>\n",
       "      <td>8</td>\n",
       "      <td>1</td>\n",
       "      <td>0</td>\n",
       "      <td>60621, USA</td>\n",
       "      <td>60621</td>\n",
       "    </tr>\n",
       "  </tbody>\n",
       "</table>\n",
       "<p>10506 rows × 14 columns</p>\n",
       "</div>"
      ],
      "text/plain": [
       "             Date                                            Address  \\\n",
       "0      2007-05-29  4100 North Oak Park Avenue, Chicago, IL 60634,...   \n",
       "1      2007-05-29  4100 North Oak Park Avenue, Chicago, IL 60634,...   \n",
       "2      2007-05-29  6200 North Mandell Avenue, Chicago, IL 60646, USA   \n",
       "3      2007-05-29    7900 West Foster Avenue, Chicago, IL 60656, USA   \n",
       "4      2007-05-29    7900 West Foster Avenue, Chicago, IL 60656, USA   \n",
       "...           ...                                                ...   \n",
       "10501  2013-09-26      5100 West 72nd Street, Chicago, IL 60638, USA   \n",
       "10502  2013-09-26    5800 North Ridge Avenue, Chicago, IL 60660, USA   \n",
       "10503  2013-09-26  1700 North Ashland Avenue, Chicago, IL 60622, USA   \n",
       "10504  2013-09-26   7100 North Harlem Avenue, Chicago, IL 60631, USA   \n",
       "10505  2013-09-26      4200 West 65th Street, Chicago, IL 60621, USA   \n",
       "\n",
       "                      Species  Block           Street  Trap  \\\n",
       "0      CULEX PIPIENS/RESTUANS     41   N OAK PARK AVE  T002   \n",
       "1              CULEX RESTUANS     41   N OAK PARK AVE  T002   \n",
       "2              CULEX RESTUANS     62    N MANDELL AVE  T007   \n",
       "3      CULEX PIPIENS/RESTUANS     79     W FOSTER AVE  T015   \n",
       "4              CULEX RESTUANS     79     W FOSTER AVE  T015   \n",
       "...                       ...    ...              ...   ...   \n",
       "10501  CULEX PIPIENS/RESTUANS     51        W 72ND ST  T035   \n",
       "10502  CULEX PIPIENS/RESTUANS     58      N RIDGE AVE  T231   \n",
       "10503  CULEX PIPIENS/RESTUANS     17    N ASHLAND AVE  T232   \n",
       "10504  CULEX PIPIENS/RESTUANS     71     N HARLEM AVE  T233   \n",
       "10505  CULEX PIPIENS/RESTUANS     42        W 65TH ST  T235   \n",
       "\n",
       "                  AddressNumberAndStreet   Latitude  Longitude  \\\n",
       "0      4100  N OAK PARK AVE, Chicago, IL  41.954690 -87.800991   \n",
       "1      4100  N OAK PARK AVE, Chicago, IL  41.954690 -87.800991   \n",
       "2       6200  N MANDELL AVE, Chicago, IL  41.994991 -87.769279   \n",
       "3        7900  W FOSTER AVE, Chicago, IL  41.974089 -87.824812   \n",
       "4        7900  W FOSTER AVE, Chicago, IL  41.974089 -87.824812   \n",
       "...                                  ...        ...        ...   \n",
       "10501       5100  W 72ND ST, Chicago, IL  41.763733 -87.742302   \n",
       "10502     5800  N RIDGE AVE, Chicago, IL  41.987280 -87.666066   \n",
       "10503   1700  N ASHLAND AVE, Chicago, IL  41.912563 -87.668055   \n",
       "10504    7100  N HARLEM AVE, Chicago, IL  42.009876 -87.807277   \n",
       "10505       4200  W 65TH ST, Chicago, IL  41.776428 -87.627096   \n",
       "\n",
       "       AddressAccuracy  NumMosquitos  WnvPresent OnMyWayToZip    Zip  \n",
       "0                    9             1           0   60634, USA  60634  \n",
       "1                    9             1           0   60634, USA  60634  \n",
       "2                    9             1           0   60646, USA  60646  \n",
       "3                    8             1           0   60656, USA  60656  \n",
       "4                    8             4           0   60656, USA  60656  \n",
       "...                ...           ...         ...          ...    ...  \n",
       "10501                8             6           1   60638, USA  60638  \n",
       "10502                8             5           0   60660, USA  60660  \n",
       "10503                9             1           0   60622, USA  60622  \n",
       "10504                9             5           0   60631, USA  60631  \n",
       "10505                8             1           0   60621, USA  60621  \n",
       "\n",
       "[10506 rows x 14 columns]"
      ]
     },
     "execution_count": 113,
     "metadata": {},
     "output_type": "execute_result"
    }
   ],
   "source": [
    "sample_train.drop(\"test\",1)"
   ]
  },
  {
   "cell_type": "code",
   "execution_count": 114,
   "id": "5c26baee",
   "metadata": {},
   "outputs": [
    {
     "data": {
      "text/plain": [
       "Block\n",
       "10    111\n",
       "12     41\n",
       "22     29\n",
       "11     26\n",
       "58     20\n",
       "     ... \n",
       "34      0\n",
       "29      0\n",
       "27      0\n",
       "18      0\n",
       "98      0\n",
       "Name: WnvPresent, Length: 64, dtype: int64"
      ]
     },
     "execution_count": 114,
     "metadata": {},
     "output_type": "execute_result"
    }
   ],
   "source": [
    "sample_train.groupby(['Block'])['WnvPresent'].sum().sort_values(ascending=False)"
   ]
  },
  {
   "cell_type": "code",
   "execution_count": 130,
   "id": "fcd16426",
   "metadata": {},
   "outputs": [
    {
     "data": {
      "text/html": [
       "<div>\n",
       "<style scoped>\n",
       "    .dataframe tbody tr th:only-of-type {\n",
       "        vertical-align: middle;\n",
       "    }\n",
       "\n",
       "    .dataframe tbody tr th {\n",
       "        vertical-align: top;\n",
       "    }\n",
       "\n",
       "    .dataframe thead th {\n",
       "        text-align: right;\n",
       "    }\n",
       "</style>\n",
       "<table border=\"1\" class=\"dataframe\">\n",
       "  <thead>\n",
       "    <tr style=\"text-align: right;\">\n",
       "      <th></th>\n",
       "      <th>Date</th>\n",
       "      <th>Address</th>\n",
       "      <th>Species</th>\n",
       "      <th>Block</th>\n",
       "      <th>Street</th>\n",
       "      <th>Trap</th>\n",
       "      <th>AddressNumberAndStreet</th>\n",
       "      <th>Latitude</th>\n",
       "      <th>Longitude</th>\n",
       "      <th>AddressAccuracy</th>\n",
       "      <th>NumMosquitos</th>\n",
       "      <th>WnvPresent</th>\n",
       "    </tr>\n",
       "  </thead>\n",
       "  <tbody>\n",
       "    <tr>\n",
       "      <th>0</th>\n",
       "      <td>2007-05-29</td>\n",
       "      <td>4100 North Oak Park Avenue, Chicago, IL 60634,...</td>\n",
       "      <td>CULEX PIPIENS/RESTUANS</td>\n",
       "      <td>41</td>\n",
       "      <td>N OAK PARK AVE</td>\n",
       "      <td>T002</td>\n",
       "      <td>4100  N OAK PARK AVE, Chicago, IL</td>\n",
       "      <td>41.954690</td>\n",
       "      <td>-87.800991</td>\n",
       "      <td>9</td>\n",
       "      <td>1</td>\n",
       "      <td>0</td>\n",
       "    </tr>\n",
       "    <tr>\n",
       "      <th>1</th>\n",
       "      <td>2007-05-29</td>\n",
       "      <td>4100 North Oak Park Avenue, Chicago, IL 60634,...</td>\n",
       "      <td>CULEX RESTUANS</td>\n",
       "      <td>41</td>\n",
       "      <td>N OAK PARK AVE</td>\n",
       "      <td>T002</td>\n",
       "      <td>4100  N OAK PARK AVE, Chicago, IL</td>\n",
       "      <td>41.954690</td>\n",
       "      <td>-87.800991</td>\n",
       "      <td>9</td>\n",
       "      <td>1</td>\n",
       "      <td>0</td>\n",
       "    </tr>\n",
       "    <tr>\n",
       "      <th>2</th>\n",
       "      <td>2007-05-29</td>\n",
       "      <td>6200 North Mandell Avenue, Chicago, IL 60646, USA</td>\n",
       "      <td>CULEX RESTUANS</td>\n",
       "      <td>62</td>\n",
       "      <td>N MANDELL AVE</td>\n",
       "      <td>T007</td>\n",
       "      <td>6200  N MANDELL AVE, Chicago, IL</td>\n",
       "      <td>41.994991</td>\n",
       "      <td>-87.769279</td>\n",
       "      <td>9</td>\n",
       "      <td>1</td>\n",
       "      <td>0</td>\n",
       "    </tr>\n",
       "    <tr>\n",
       "      <th>3</th>\n",
       "      <td>2007-05-29</td>\n",
       "      <td>7900 West Foster Avenue, Chicago, IL 60656, USA</td>\n",
       "      <td>CULEX PIPIENS/RESTUANS</td>\n",
       "      <td>79</td>\n",
       "      <td>W FOSTER AVE</td>\n",
       "      <td>T015</td>\n",
       "      <td>7900  W FOSTER AVE, Chicago, IL</td>\n",
       "      <td>41.974089</td>\n",
       "      <td>-87.824812</td>\n",
       "      <td>8</td>\n",
       "      <td>1</td>\n",
       "      <td>0</td>\n",
       "    </tr>\n",
       "    <tr>\n",
       "      <th>4</th>\n",
       "      <td>2007-05-29</td>\n",
       "      <td>7900 West Foster Avenue, Chicago, IL 60656, USA</td>\n",
       "      <td>CULEX RESTUANS</td>\n",
       "      <td>79</td>\n",
       "      <td>W FOSTER AVE</td>\n",
       "      <td>T015</td>\n",
       "      <td>7900  W FOSTER AVE, Chicago, IL</td>\n",
       "      <td>41.974089</td>\n",
       "      <td>-87.824812</td>\n",
       "      <td>8</td>\n",
       "      <td>4</td>\n",
       "      <td>0</td>\n",
       "    </tr>\n",
       "    <tr>\n",
       "      <th>...</th>\n",
       "      <td>...</td>\n",
       "      <td>...</td>\n",
       "      <td>...</td>\n",
       "      <td>...</td>\n",
       "      <td>...</td>\n",
       "      <td>...</td>\n",
       "      <td>...</td>\n",
       "      <td>...</td>\n",
       "      <td>...</td>\n",
       "      <td>...</td>\n",
       "      <td>...</td>\n",
       "      <td>...</td>\n",
       "    </tr>\n",
       "    <tr>\n",
       "      <th>10500</th>\n",
       "      <td>2013-09-26</td>\n",
       "      <td>3900 North Springfield Avenue, Chicago, IL 606...</td>\n",
       "      <td>CULEX PIPIENS/RESTUANS</td>\n",
       "      <td>39</td>\n",
       "      <td>N SPRINGFIELD AVE</td>\n",
       "      <td>T228</td>\n",
       "      <td>3900  N SPRINGFIELD AVE, Chicago, IL</td>\n",
       "      <td>41.951866</td>\n",
       "      <td>-87.725057</td>\n",
       "      <td>8</td>\n",
       "      <td>3</td>\n",
       "      <td>0</td>\n",
       "    </tr>\n",
       "    <tr>\n",
       "      <th>10502</th>\n",
       "      <td>2013-09-26</td>\n",
       "      <td>5800 North Ridge Avenue, Chicago, IL 60660, USA</td>\n",
       "      <td>CULEX PIPIENS/RESTUANS</td>\n",
       "      <td>58</td>\n",
       "      <td>N RIDGE AVE</td>\n",
       "      <td>T231</td>\n",
       "      <td>5800  N RIDGE AVE, Chicago, IL</td>\n",
       "      <td>41.987280</td>\n",
       "      <td>-87.666066</td>\n",
       "      <td>8</td>\n",
       "      <td>5</td>\n",
       "      <td>0</td>\n",
       "    </tr>\n",
       "    <tr>\n",
       "      <th>10503</th>\n",
       "      <td>2013-09-26</td>\n",
       "      <td>1700 North Ashland Avenue, Chicago, IL 60622, USA</td>\n",
       "      <td>CULEX PIPIENS/RESTUANS</td>\n",
       "      <td>17</td>\n",
       "      <td>N ASHLAND AVE</td>\n",
       "      <td>T232</td>\n",
       "      <td>1700  N ASHLAND AVE, Chicago, IL</td>\n",
       "      <td>41.912563</td>\n",
       "      <td>-87.668055</td>\n",
       "      <td>9</td>\n",
       "      <td>1</td>\n",
       "      <td>0</td>\n",
       "    </tr>\n",
       "    <tr>\n",
       "      <th>10504</th>\n",
       "      <td>2013-09-26</td>\n",
       "      <td>7100 North Harlem Avenue, Chicago, IL 60631, USA</td>\n",
       "      <td>CULEX PIPIENS/RESTUANS</td>\n",
       "      <td>71</td>\n",
       "      <td>N HARLEM AVE</td>\n",
       "      <td>T233</td>\n",
       "      <td>7100  N HARLEM AVE, Chicago, IL</td>\n",
       "      <td>42.009876</td>\n",
       "      <td>-87.807277</td>\n",
       "      <td>9</td>\n",
       "      <td>5</td>\n",
       "      <td>0</td>\n",
       "    </tr>\n",
       "    <tr>\n",
       "      <th>10505</th>\n",
       "      <td>2013-09-26</td>\n",
       "      <td>4200 West 65th Street, Chicago, IL 60621, USA</td>\n",
       "      <td>CULEX PIPIENS/RESTUANS</td>\n",
       "      <td>42</td>\n",
       "      <td>W 65TH ST</td>\n",
       "      <td>T235</td>\n",
       "      <td>4200  W 65TH ST, Chicago, IL</td>\n",
       "      <td>41.776428</td>\n",
       "      <td>-87.627096</td>\n",
       "      <td>8</td>\n",
       "      <td>1</td>\n",
       "      <td>0</td>\n",
       "    </tr>\n",
       "  </tbody>\n",
       "</table>\n",
       "<p>9955 rows × 12 columns</p>\n",
       "</div>"
      ],
      "text/plain": [
       "             Date                                            Address  \\\n",
       "0      2007-05-29  4100 North Oak Park Avenue, Chicago, IL 60634,...   \n",
       "1      2007-05-29  4100 North Oak Park Avenue, Chicago, IL 60634,...   \n",
       "2      2007-05-29  6200 North Mandell Avenue, Chicago, IL 60646, USA   \n",
       "3      2007-05-29    7900 West Foster Avenue, Chicago, IL 60656, USA   \n",
       "4      2007-05-29    7900 West Foster Avenue, Chicago, IL 60656, USA   \n",
       "...           ...                                                ...   \n",
       "10500  2013-09-26  3900 North Springfield Avenue, Chicago, IL 606...   \n",
       "10502  2013-09-26    5800 North Ridge Avenue, Chicago, IL 60660, USA   \n",
       "10503  2013-09-26  1700 North Ashland Avenue, Chicago, IL 60622, USA   \n",
       "10504  2013-09-26   7100 North Harlem Avenue, Chicago, IL 60631, USA   \n",
       "10505  2013-09-26      4200 West 65th Street, Chicago, IL 60621, USA   \n",
       "\n",
       "                      Species  Block              Street  Trap  \\\n",
       "0      CULEX PIPIENS/RESTUANS     41      N OAK PARK AVE  T002   \n",
       "1              CULEX RESTUANS     41      N OAK PARK AVE  T002   \n",
       "2              CULEX RESTUANS     62       N MANDELL AVE  T007   \n",
       "3      CULEX PIPIENS/RESTUANS     79        W FOSTER AVE  T015   \n",
       "4              CULEX RESTUANS     79        W FOSTER AVE  T015   \n",
       "...                       ...    ...                 ...   ...   \n",
       "10500  CULEX PIPIENS/RESTUANS     39   N SPRINGFIELD AVE  T228   \n",
       "10502  CULEX PIPIENS/RESTUANS     58         N RIDGE AVE  T231   \n",
       "10503  CULEX PIPIENS/RESTUANS     17       N ASHLAND AVE  T232   \n",
       "10504  CULEX PIPIENS/RESTUANS     71        N HARLEM AVE  T233   \n",
       "10505  CULEX PIPIENS/RESTUANS     42           W 65TH ST  T235   \n",
       "\n",
       "                     AddressNumberAndStreet   Latitude  Longitude  \\\n",
       "0         4100  N OAK PARK AVE, Chicago, IL  41.954690 -87.800991   \n",
       "1         4100  N OAK PARK AVE, Chicago, IL  41.954690 -87.800991   \n",
       "2          6200  N MANDELL AVE, Chicago, IL  41.994991 -87.769279   \n",
       "3           7900  W FOSTER AVE, Chicago, IL  41.974089 -87.824812   \n",
       "4           7900  W FOSTER AVE, Chicago, IL  41.974089 -87.824812   \n",
       "...                                     ...        ...        ...   \n",
       "10500  3900  N SPRINGFIELD AVE, Chicago, IL  41.951866 -87.725057   \n",
       "10502        5800  N RIDGE AVE, Chicago, IL  41.987280 -87.666066   \n",
       "10503      1700  N ASHLAND AVE, Chicago, IL  41.912563 -87.668055   \n",
       "10504       7100  N HARLEM AVE, Chicago, IL  42.009876 -87.807277   \n",
       "10505          4200  W 65TH ST, Chicago, IL  41.776428 -87.627096   \n",
       "\n",
       "       AddressAccuracy  NumMosquitos  WnvPresent  \n",
       "0                    9             1           0  \n",
       "1                    9             1           0  \n",
       "2                    9             1           0  \n",
       "3                    8             1           0  \n",
       "4                    8             4           0  \n",
       "...                ...           ...         ...  \n",
       "10500                8             3           0  \n",
       "10502                8             5           0  \n",
       "10503                9             1           0  \n",
       "10504                9             5           0  \n",
       "10505                8             1           0  \n",
       "\n",
       "[9955 rows x 12 columns]"
      ]
     },
     "execution_count": 130,
     "metadata": {},
     "output_type": "execute_result"
    }
   ],
   "source": [
    "mask = sample_train.WnvPresent == 0\n",
    "sample_train[sample_train.WnvPresent == 0]\n"
   ]
  },
  {
   "cell_type": "code",
   "execution_count": 131,
   "id": "50f69a14",
   "metadata": {},
   "outputs": [
    {
     "data": {
      "text/html": [
       "<div>\n",
       "<style scoped>\n",
       "    .dataframe tbody tr th:only-of-type {\n",
       "        vertical-align: middle;\n",
       "    }\n",
       "\n",
       "    .dataframe tbody tr th {\n",
       "        vertical-align: top;\n",
       "    }\n",
       "\n",
       "    .dataframe thead th {\n",
       "        text-align: right;\n",
       "    }\n",
       "</style>\n",
       "<table border=\"1\" class=\"dataframe\">\n",
       "  <thead>\n",
       "    <tr style=\"text-align: right;\">\n",
       "      <th></th>\n",
       "      <th>Date</th>\n",
       "      <th>Address</th>\n",
       "      <th>Species</th>\n",
       "      <th>Block</th>\n",
       "      <th>Street</th>\n",
       "      <th>Trap</th>\n",
       "      <th>AddressNumberAndStreet</th>\n",
       "      <th>Latitude</th>\n",
       "      <th>Longitude</th>\n",
       "      <th>AddressAccuracy</th>\n",
       "      <th>NumMosquitos</th>\n",
       "      <th>WnvPresent</th>\n",
       "    </tr>\n",
       "  </thead>\n",
       "  <tbody>\n",
       "    <tr>\n",
       "      <th>0</th>\n",
       "      <td>2007-05-29</td>\n",
       "      <td>4100 North Oak Park Avenue, Chicago, IL 60634,...</td>\n",
       "      <td>CULEX PIPIENS/RESTUANS</td>\n",
       "      <td>41</td>\n",
       "      <td>N OAK PARK AVE</td>\n",
       "      <td>T002</td>\n",
       "      <td>4100  N OAK PARK AVE, Chicago, IL</td>\n",
       "      <td>41.954690</td>\n",
       "      <td>-87.800991</td>\n",
       "      <td>9</td>\n",
       "      <td>1</td>\n",
       "      <td>0</td>\n",
       "    </tr>\n",
       "    <tr>\n",
       "      <th>1</th>\n",
       "      <td>2007-05-29</td>\n",
       "      <td>4100 North Oak Park Avenue, Chicago, IL 60634,...</td>\n",
       "      <td>CULEX RESTUANS</td>\n",
       "      <td>41</td>\n",
       "      <td>N OAK PARK AVE</td>\n",
       "      <td>T002</td>\n",
       "      <td>4100  N OAK PARK AVE, Chicago, IL</td>\n",
       "      <td>41.954690</td>\n",
       "      <td>-87.800991</td>\n",
       "      <td>9</td>\n",
       "      <td>1</td>\n",
       "      <td>0</td>\n",
       "    </tr>\n",
       "    <tr>\n",
       "      <th>2</th>\n",
       "      <td>2007-05-29</td>\n",
       "      <td>6200 North Mandell Avenue, Chicago, IL 60646, USA</td>\n",
       "      <td>CULEX RESTUANS</td>\n",
       "      <td>62</td>\n",
       "      <td>N MANDELL AVE</td>\n",
       "      <td>T007</td>\n",
       "      <td>6200  N MANDELL AVE, Chicago, IL</td>\n",
       "      <td>41.994991</td>\n",
       "      <td>-87.769279</td>\n",
       "      <td>9</td>\n",
       "      <td>1</td>\n",
       "      <td>0</td>\n",
       "    </tr>\n",
       "    <tr>\n",
       "      <th>3</th>\n",
       "      <td>2007-05-29</td>\n",
       "      <td>7900 West Foster Avenue, Chicago, IL 60656, USA</td>\n",
       "      <td>CULEX PIPIENS/RESTUANS</td>\n",
       "      <td>79</td>\n",
       "      <td>W FOSTER AVE</td>\n",
       "      <td>T015</td>\n",
       "      <td>7900  W FOSTER AVE, Chicago, IL</td>\n",
       "      <td>41.974089</td>\n",
       "      <td>-87.824812</td>\n",
       "      <td>8</td>\n",
       "      <td>1</td>\n",
       "      <td>0</td>\n",
       "    </tr>\n",
       "    <tr>\n",
       "      <th>4</th>\n",
       "      <td>2007-05-29</td>\n",
       "      <td>7900 West Foster Avenue, Chicago, IL 60656, USA</td>\n",
       "      <td>CULEX RESTUANS</td>\n",
       "      <td>79</td>\n",
       "      <td>W FOSTER AVE</td>\n",
       "      <td>T015</td>\n",
       "      <td>7900  W FOSTER AVE, Chicago, IL</td>\n",
       "      <td>41.974089</td>\n",
       "      <td>-87.824812</td>\n",
       "      <td>8</td>\n",
       "      <td>4</td>\n",
       "      <td>0</td>\n",
       "    </tr>\n",
       "    <tr>\n",
       "      <th>...</th>\n",
       "      <td>...</td>\n",
       "      <td>...</td>\n",
       "      <td>...</td>\n",
       "      <td>...</td>\n",
       "      <td>...</td>\n",
       "      <td>...</td>\n",
       "      <td>...</td>\n",
       "      <td>...</td>\n",
       "      <td>...</td>\n",
       "      <td>...</td>\n",
       "      <td>...</td>\n",
       "      <td>...</td>\n",
       "    </tr>\n",
       "    <tr>\n",
       "      <th>10500</th>\n",
       "      <td>2013-09-26</td>\n",
       "      <td>3900 North Springfield Avenue, Chicago, IL 606...</td>\n",
       "      <td>CULEX PIPIENS/RESTUANS</td>\n",
       "      <td>39</td>\n",
       "      <td>N SPRINGFIELD AVE</td>\n",
       "      <td>T228</td>\n",
       "      <td>3900  N SPRINGFIELD AVE, Chicago, IL</td>\n",
       "      <td>41.951866</td>\n",
       "      <td>-87.725057</td>\n",
       "      <td>8</td>\n",
       "      <td>3</td>\n",
       "      <td>0</td>\n",
       "    </tr>\n",
       "    <tr>\n",
       "      <th>10502</th>\n",
       "      <td>2013-09-26</td>\n",
       "      <td>5800 North Ridge Avenue, Chicago, IL 60660, USA</td>\n",
       "      <td>CULEX PIPIENS/RESTUANS</td>\n",
       "      <td>58</td>\n",
       "      <td>N RIDGE AVE</td>\n",
       "      <td>T231</td>\n",
       "      <td>5800  N RIDGE AVE, Chicago, IL</td>\n",
       "      <td>41.987280</td>\n",
       "      <td>-87.666066</td>\n",
       "      <td>8</td>\n",
       "      <td>5</td>\n",
       "      <td>0</td>\n",
       "    </tr>\n",
       "    <tr>\n",
       "      <th>10503</th>\n",
       "      <td>2013-09-26</td>\n",
       "      <td>1700 North Ashland Avenue, Chicago, IL 60622, USA</td>\n",
       "      <td>CULEX PIPIENS/RESTUANS</td>\n",
       "      <td>17</td>\n",
       "      <td>N ASHLAND AVE</td>\n",
       "      <td>T232</td>\n",
       "      <td>1700  N ASHLAND AVE, Chicago, IL</td>\n",
       "      <td>41.912563</td>\n",
       "      <td>-87.668055</td>\n",
       "      <td>9</td>\n",
       "      <td>1</td>\n",
       "      <td>0</td>\n",
       "    </tr>\n",
       "    <tr>\n",
       "      <th>10504</th>\n",
       "      <td>2013-09-26</td>\n",
       "      <td>7100 North Harlem Avenue, Chicago, IL 60631, USA</td>\n",
       "      <td>CULEX PIPIENS/RESTUANS</td>\n",
       "      <td>71</td>\n",
       "      <td>N HARLEM AVE</td>\n",
       "      <td>T233</td>\n",
       "      <td>7100  N HARLEM AVE, Chicago, IL</td>\n",
       "      <td>42.009876</td>\n",
       "      <td>-87.807277</td>\n",
       "      <td>9</td>\n",
       "      <td>5</td>\n",
       "      <td>0</td>\n",
       "    </tr>\n",
       "    <tr>\n",
       "      <th>10505</th>\n",
       "      <td>2013-09-26</td>\n",
       "      <td>4200 West 65th Street, Chicago, IL 60621, USA</td>\n",
       "      <td>CULEX PIPIENS/RESTUANS</td>\n",
       "      <td>42</td>\n",
       "      <td>W 65TH ST</td>\n",
       "      <td>T235</td>\n",
       "      <td>4200  W 65TH ST, Chicago, IL</td>\n",
       "      <td>41.776428</td>\n",
       "      <td>-87.627096</td>\n",
       "      <td>8</td>\n",
       "      <td>1</td>\n",
       "      <td>0</td>\n",
       "    </tr>\n",
       "  </tbody>\n",
       "</table>\n",
       "<p>9955 rows × 12 columns</p>\n",
       "</div>"
      ],
      "text/plain": [
       "             Date                                            Address  \\\n",
       "0      2007-05-29  4100 North Oak Park Avenue, Chicago, IL 60634,...   \n",
       "1      2007-05-29  4100 North Oak Park Avenue, Chicago, IL 60634,...   \n",
       "2      2007-05-29  6200 North Mandell Avenue, Chicago, IL 60646, USA   \n",
       "3      2007-05-29    7900 West Foster Avenue, Chicago, IL 60656, USA   \n",
       "4      2007-05-29    7900 West Foster Avenue, Chicago, IL 60656, USA   \n",
       "...           ...                                                ...   \n",
       "10500  2013-09-26  3900 North Springfield Avenue, Chicago, IL 606...   \n",
       "10502  2013-09-26    5800 North Ridge Avenue, Chicago, IL 60660, USA   \n",
       "10503  2013-09-26  1700 North Ashland Avenue, Chicago, IL 60622, USA   \n",
       "10504  2013-09-26   7100 North Harlem Avenue, Chicago, IL 60631, USA   \n",
       "10505  2013-09-26      4200 West 65th Street, Chicago, IL 60621, USA   \n",
       "\n",
       "                      Species  Block              Street  Trap  \\\n",
       "0      CULEX PIPIENS/RESTUANS     41      N OAK PARK AVE  T002   \n",
       "1              CULEX RESTUANS     41      N OAK PARK AVE  T002   \n",
       "2              CULEX RESTUANS     62       N MANDELL AVE  T007   \n",
       "3      CULEX PIPIENS/RESTUANS     79        W FOSTER AVE  T015   \n",
       "4              CULEX RESTUANS     79        W FOSTER AVE  T015   \n",
       "...                       ...    ...                 ...   ...   \n",
       "10500  CULEX PIPIENS/RESTUANS     39   N SPRINGFIELD AVE  T228   \n",
       "10502  CULEX PIPIENS/RESTUANS     58         N RIDGE AVE  T231   \n",
       "10503  CULEX PIPIENS/RESTUANS     17       N ASHLAND AVE  T232   \n",
       "10504  CULEX PIPIENS/RESTUANS     71        N HARLEM AVE  T233   \n",
       "10505  CULEX PIPIENS/RESTUANS     42           W 65TH ST  T235   \n",
       "\n",
       "                     AddressNumberAndStreet   Latitude  Longitude  \\\n",
       "0         4100  N OAK PARK AVE, Chicago, IL  41.954690 -87.800991   \n",
       "1         4100  N OAK PARK AVE, Chicago, IL  41.954690 -87.800991   \n",
       "2          6200  N MANDELL AVE, Chicago, IL  41.994991 -87.769279   \n",
       "3           7900  W FOSTER AVE, Chicago, IL  41.974089 -87.824812   \n",
       "4           7900  W FOSTER AVE, Chicago, IL  41.974089 -87.824812   \n",
       "...                                     ...        ...        ...   \n",
       "10500  3900  N SPRINGFIELD AVE, Chicago, IL  41.951866 -87.725057   \n",
       "10502        5800  N RIDGE AVE, Chicago, IL  41.987280 -87.666066   \n",
       "10503      1700  N ASHLAND AVE, Chicago, IL  41.912563 -87.668055   \n",
       "10504       7100  N HARLEM AVE, Chicago, IL  42.009876 -87.807277   \n",
       "10505          4200  W 65TH ST, Chicago, IL  41.776428 -87.627096   \n",
       "\n",
       "       AddressAccuracy  NumMosquitos  WnvPresent  \n",
       "0                    9             1           0  \n",
       "1                    9             1           0  \n",
       "2                    9             1           0  \n",
       "3                    8             1           0  \n",
       "4                    8             4           0  \n",
       "...                ...           ...         ...  \n",
       "10500                8             3           0  \n",
       "10502                8             5           0  \n",
       "10503                9             1           0  \n",
       "10504                9             5           0  \n",
       "10505                8             1           0  \n",
       "\n",
       "[9955 rows x 12 columns]"
      ]
     },
     "execution_count": 131,
     "metadata": {},
     "output_type": "execute_result"
    }
   ],
   "source": [
    "sample_train[mask]"
   ]
  },
  {
   "cell_type": "code",
   "execution_count": null,
   "id": "5d003231",
   "metadata": {},
   "outputs": [],
   "source": []
  },
  {
   "cell_type": "code",
   "execution_count": null,
   "id": "e7714c1d",
   "metadata": {},
   "outputs": [],
   "source": []
  }
 ],
 "metadata": {
  "kernelspec": {
   "display_name": "Python 3",
   "language": "python",
   "name": "python3"
  },
  "language_info": {
   "codemirror_mode": {
    "name": "ipython",
    "version": 3
   },
   "file_extension": ".py",
   "mimetype": "text/x-python",
   "name": "python",
   "nbconvert_exporter": "python",
   "pygments_lexer": "ipython3",
   "version": "3.8.8"
  }
 },
 "nbformat": 4,
 "nbformat_minor": 5
}
