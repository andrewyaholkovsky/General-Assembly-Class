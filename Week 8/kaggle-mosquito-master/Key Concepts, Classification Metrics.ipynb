{
 "cells": [
  {
   "cell_type": "markdown",
   "metadata": {},
   "source": [
    "# Exit Tickets\n",
    "* Via Not Not Todd, \"What other evaluation techniques are there? How does AUC compare? When to apply them?\""
   ]
  },
  {
   "cell_type": "code",
   "execution_count": 1,
   "metadata": {},
   "outputs": [
    {
     "data": {
      "text/plain": [
       "RandomForestClassifier(bootstrap=True, class_weight=None, criterion='gini',\n",
       "                       max_depth=None, max_features='auto', max_leaf_nodes=None,\n",
       "                       min_impurity_decrease=0.0, min_impurity_split=None,\n",
       "                       min_samples_leaf=1, min_samples_split=2,\n",
       "                       min_weight_fraction_leaf=0.0, n_estimators=100,\n",
       "                       n_jobs=None, oob_score=False, random_state=None,\n",
       "                       verbose=0, warm_start=False)"
      ]
     },
     "execution_count": 1,
     "metadata": {},
     "output_type": "execute_result"
    }
   ],
   "source": [
    "from sklearn.model_selection import GridSearchCV, train_test_split\n",
    "import pandas as pd\n",
    "from sklearn.ensemble import RandomForestClassifier\n",
    "from sklearn.metrics import confusion_matrix\n",
    "import matplotlib.pyplot as plt\n",
    "%matplotlib inline\n",
    "\n",
    "# Read in the data.\n",
    "path = '/Users/dimitrilinde/Documents/GA-DS-PT/24/decision-trees/data/titanic.csv'\n",
    "titanic = pd.read_csv(path)\n",
    "\n",
    "# Encode female as 0 and male as 1.\n",
    "titanic['Sex'] = titanic.Sex.map({'female':0, 'male':1})\n",
    "\n",
    "# Fill in the missing values for age with the median age.\n",
    "titanic.Age.fillna(titanic.Age.median(), inplace=True)\n",
    "\n",
    "# Create a DataFrame of dummy variables for Embarked.\n",
    "embarked_dummies = pd.get_dummies(titanic.Embarked, prefix='Embarked')\n",
    "embarked_dummies.drop(embarked_dummies.columns[0], axis=1, inplace=True)\n",
    "\n",
    "# Concatenate the original DataFrame and the dummy DataFrame.\n",
    "titanic = pd.concat([titanic, embarked_dummies], axis=1)\n",
    "\n",
    "feature_cols = ['Pclass', 'Sex', 'Age', 'Embarked_Q', 'Embarked_S']\n",
    "\n",
    "X = titanic[feature_cols]\n",
    "y = titanic.Survived\n",
    "\n",
    "X_train, X_test, y_train, y_test = train_test_split(X, y, test_size=0.2)\n",
    "\n",
    "rfc = RandomForestClassifier(n_estimators=100)\n",
    "rfc.fit(X_train, y_train)"
   ]
  },
  {
   "cell_type": "code",
   "execution_count": 2,
   "metadata": {},
   "outputs": [
    {
     "data": {
      "text/plain": [
       "array([1.        , 0.06166667, 0.949     , 0.24894156, 0.08865886])"
      ]
     },
     "execution_count": 2,
     "metadata": {},
     "output_type": "execute_result"
    }
   ],
   "source": [
    "# probability of surviving for first 5 passengers in test split\n",
    "rfc.predict_proba(X_test)[:5,1]"
   ]
  },
  {
   "cell_type": "code",
   "execution_count": 4,
   "metadata": {},
   "outputs": [
    {
     "data": {
      "text/html": [
       "<div>\n",
       "<style scoped>\n",
       "    .dataframe tbody tr th:only-of-type {\n",
       "        vertical-align: middle;\n",
       "    }\n",
       "\n",
       "    .dataframe tbody tr th {\n",
       "        vertical-align: top;\n",
       "    }\n",
       "\n",
       "    .dataframe thead th {\n",
       "        text-align: right;\n",
       "    }\n",
       "</style>\n",
       "<table border=\"1\" class=\"dataframe\">\n",
       "  <thead>\n",
       "    <tr style=\"text-align: right;\">\n",
       "      <th></th>\n",
       "      <th>Pred: 0</th>\n",
       "      <th>Pred: 1</th>\n",
       "    </tr>\n",
       "  </thead>\n",
       "  <tbody>\n",
       "    <tr>\n",
       "      <td>Actual: 0</td>\n",
       "      <td>97</td>\n",
       "      <td>14</td>\n",
       "    </tr>\n",
       "    <tr>\n",
       "      <td>Actual: 1</td>\n",
       "      <td>21</td>\n",
       "      <td>47</td>\n",
       "    </tr>\n",
       "  </tbody>\n",
       "</table>\n",
       "</div>"
      ],
      "text/plain": [
       "           Pred: 0  Pred: 1\n",
       "Actual: 0       97       14\n",
       "Actual: 1       21       47"
      ]
     },
     "execution_count": 4,
     "metadata": {},
     "output_type": "execute_result"
    }
   ],
   "source": [
    "# store probabilities\n",
    "preds = rfc.predict_proba(X_test)[:,1]\n",
    "# use a list comprehension to set all values at or above .5 to 1 and below to 0 and create confusion matrix\n",
    "conmat = confusion_matrix(y_test, [1 if x>=.5 else 0 for x in preds])\n",
    "# format it so it looks nice\n",
    "confusion = pd.DataFrame(conmat, index=['Actual: 0','Actual: 1'],\n",
    "                         columns=['Pred: 0','Pred: 1'])\n",
    "confusion"
   ]
  },
  {
   "cell_type": "code",
   "execution_count": 30,
   "metadata": {},
   "outputs": [
    {
     "name": "stdout",
     "output_type": "stream",
     "text": [
      "[[111   0]\n",
      " [ 57  11]]\n"
     ]
    },
    {
     "data": {
      "text/plain": [
       "0.0"
      ]
     },
     "execution_count": 30,
     "metadata": {},
     "output_type": "execute_result"
    }
   ],
   "source": [
    "print(conmat)\n",
    "# get the false positives\n",
    "fp = conmat[0][1]\n",
    "# the true positives\n",
    "tp = conmat[1][1]\n",
    "# the false negatives\n",
    "fn = conmat[1][0]\n",
    "# and the true negatives\n",
    "tn = conmat[0][0]\n",
    "# and divide the false positives by all the predicted positives to get the false positive rate when the threshold\n",
    "# equals .5\n",
    "fpr = fp/(fp+tn)\n",
    "fpr"
   ]
  },
  {
   "cell_type": "code",
   "execution_count": 31,
   "metadata": {},
   "outputs": [
    {
     "data": {
      "text/plain": [
       "[[0.0, 1.0, 1.0],\n",
       " [0.01, 0.7927927927927928, 0.9411764705882353],\n",
       " [0.02, 0.7117117117117117, 0.9264705882352942],\n",
       " [0.03, 0.6666666666666666, 0.9117647058823529],\n",
       " [0.04, 0.6486486486486487, 0.9117647058823529]]"
      ]
     },
     "execution_count": 31,
     "metadata": {},
     "output_type": "execute_result"
    }
   ],
   "source": [
    "# if we want to see fpr at multiple thresholds, we need to store our results\n",
    "result_list = []\n",
    "#preds = rfc.predict_proba(X_test)[:,1]\n",
    "for i in range(0,101):\n",
    "    # multiplying i by .01 yields every value between 0 and 1.0 in increments of .01\n",
    "    i = i*.01\n",
    "    # create our confusion matrix at each threshold\n",
    "    conmat = confusion_matrix(y_test, [1 if x>=i else 0 for x in preds])\n",
    "    # derive fpr at threshold\n",
    "    fp = conmat[0][1]\n",
    "    tp = conmat[1][1]\n",
    "    fn = conmat[1][0]\n",
    "    tn = conmat[0][0]\n",
    "    fpr = fp/(fp+tn)\n",
    "    tpr = tp/(fn+tp)\n",
    "    # put threshold and fpr in a list\n",
    "    result = [i,fpr,tpr]\n",
    "    # append to result list\n",
    "    result_list.append(result)\n",
    "result_list[:5]"
   ]
  },
  {
   "cell_type": "code",
   "execution_count": 32,
   "metadata": {},
   "outputs": [
    {
     "data": {
      "image/png": "[encoded data removed]",
      "text/plain": [
       "<Figure size 864x576 with 1 Axes>"
      ]
     },
     "metadata": {
      "needs_background": "light"
     },
     "output_type": "display_data"
    }
   ],
   "source": [
    "# store result in dataframe\n",
    "pr_by_thresh = pd.DataFrame(result_list,columns=['thresh','fpr','tpr'])\n",
    "# plot result\n",
    "fig, ax = plt.subplots(nrows=1, ncols=1) \n",
    "pr_by_thresh.plot(x='thresh',y='fpr',ax=ax,figsize=(12,8))\n",
    "pr_by_thresh.plot(x='thresh',y='tpr',ax=ax,figsize=(12,8))\n",
    "plt.show()"
   ]
  },
  {
   "cell_type": "code",
   "execution_count": 33,
   "metadata": {},
   "outputs": [
    {
     "data": {
      "text/html": [
       "<div>\n",
       "<style scoped>\n",
       "    .dataframe tbody tr th:only-of-type {\n",
       "        vertical-align: middle;\n",
       "    }\n",
       "\n",
       "    .dataframe tbody tr th {\n",
       "        vertical-align: top;\n",
       "    }\n",
       "\n",
       "    .dataframe thead th {\n",
       "        text-align: right;\n",
       "    }\n",
       "</style>\n",
       "<table border=\"1\" class=\"dataframe\">\n",
       "  <thead>\n",
       "    <tr style=\"text-align: right;\">\n",
       "      <th></th>\n",
       "      <th>thresh</th>\n",
       "      <th>fpr</th>\n",
       "      <th>tpr</th>\n",
       "    </tr>\n",
       "  </thead>\n",
       "  <tbody>\n",
       "    <tr>\n",
       "      <td>0</td>\n",
       "      <td>0.0</td>\n",
       "      <td>1.000000</td>\n",
       "      <td>1.000000</td>\n",
       "    </tr>\n",
       "    <tr>\n",
       "      <td>10</td>\n",
       "      <td>0.1</td>\n",
       "      <td>0.432432</td>\n",
       "      <td>0.852941</td>\n",
       "    </tr>\n",
       "    <tr>\n",
       "      <td>50</td>\n",
       "      <td>0.5</td>\n",
       "      <td>0.126126</td>\n",
       "      <td>0.691176</td>\n",
       "    </tr>\n",
       "    <tr>\n",
       "      <td>90</td>\n",
       "      <td>0.9</td>\n",
       "      <td>0.018018</td>\n",
       "      <td>0.485294</td>\n",
       "    </tr>\n",
       "    <tr>\n",
       "      <td>100</td>\n",
       "      <td>1.0</td>\n",
       "      <td>0.000000</td>\n",
       "      <td>0.161765</td>\n",
       "    </tr>\n",
       "  </tbody>\n",
       "</table>\n",
       "</div>"
      ],
      "text/plain": [
       "     thresh       fpr       tpr\n",
       "0       0.0  1.000000  1.000000\n",
       "10      0.1  0.432432  0.852941\n",
       "50      0.5  0.126126  0.691176\n",
       "90      0.9  0.018018  0.485294\n",
       "100     1.0  0.000000  0.161765"
      ]
     },
     "execution_count": 33,
     "metadata": {},
     "output_type": "execute_result"
    }
   ],
   "source": [
    "# at a threshold of zero, we predict everything is positve, so we get 100% false positives, and 100% true positves\n",
    "# at .1, we are getting 85% of positves, but we're predicting 43% of negatives are positives\n",
    "pr_by_thresh[pr_by_thresh.thresh.isin([0,.1,.5,.9,1])]"
   ]
  },
  {
   "cell_type": "markdown",
   "metadata": {},
   "source": [
    "### Imagine you have a model that predicts whether individuals are covid carriers\n",
    "* What of the 4 metrics in the confusion matrix seems particularly important to increase/reduce?\n",
    "* What are the consequences of increasing/reducing those metrics (the impacts on the remaining metrics)?"
   ]
  },
  {
   "cell_type": "markdown",
   "metadata": {},
   "source": [
    "### Metrics/models spreadsheet\n",
    "https://docs.google.com/spreadsheets/d/1tvcwYQxwQ_1nRvWJbfg2er6zknaTP_XuG_lteOlxdIg/edit?usp=sharing"
   ]
  },
  {
   "cell_type": "code",
   "execution_count": null,
   "metadata": {},
   "outputs": [],
   "source": []
  }
 ],
 "metadata": {
  "kernelspec": {
   "display_name": "Python 3",
   "language": "python",
   "name": "python3"
  },
  "language_info": {
   "codemirror_mode": {
    "name": "ipython",
    "version": 3
   },
   "file_extension": ".py",
   "mimetype": "text/x-python",
   "name": "python",
   "nbconvert_exporter": "python",
   "pygments_lexer": "ipython3",
   "version": "3.8.8"
  }
 },
 "nbformat": 4,
 "nbformat_minor": 2
}
