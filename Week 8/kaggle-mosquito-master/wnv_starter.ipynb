{
 "cells": [
  {
   "cell_type": "code",
   "execution_count": 1,
   "metadata": {
    "collapsed": true
   },
   "outputs": [],
   "source": [
    "import pandas as pd\n",
    "import seaborn as sns\n",
    "import numpy as np\n",
    "import matplotlib.pyplot as plt\n",
    "%matplotlib inline"
   ]
  },
  {
   "cell_type": "markdown",
   "metadata": {},
   "source": [
    "### Acquiring the data\n",
    "* Go to https://www.kaggle.com/c/predict-west-nile-virus and log-in to kaggle\n",
    "* Click the data tab and click download all from the bottom menu\n",
    "\n",
    "### data\n",
    "train.csv, test.csv - the training and test set of the main dataset. The training set consists of data from 2007, 2009, 2011, and 2013, while in the test set you are requested to predict the test results for 2008, 2010, 2012, and 2014.\n",
    "* Id: the id of the record\n",
    "* Date: date that the WNV test is performed\n",
    "* Address: approximate address of the location of trap. This is used to send to the GeoCoder. \n",
    "* Species: the species of mosquitos\n",
    "* Block: block number of address\n",
    "* Street: street name\n",
    "* Trap: Id of the trap\n",
    "* AddressNumberAndStreet: approximate address returned from GeoCoder\n",
    "* Latitude, Longitude: Latitude and Longitude returned from GeoCoder\n",
    "* AddressAccuracy: accuracy returned from GeoCoder\n",
    "* NumMosquitos: number of mosquitoes caught in this trap\n",
    "* WnvPresent: whether West Nile Virus was present in these mosquitos. 1 means WNV is present, and 0 means not present.\n",
    "\n",
    "### In a perfect world, you'd make a submission, but we're time limited\n",
    "* So just create a train test split as soon as you load the training data (ignore spray and weather data) and do your EDA and modeling on train\n",
    "* If you're feeling bold, \n",
    "    * make predictions on the real test data and output predictions in .csv in the format demonstrated by sampleSubmission.csv\n",
    "    * Anywhere on https://www.kaggle.com/c/predict-west-nile-virus, click late submission\n",
    "    * Upload your submission\n",
    "\n",
    "### Tips\n",
    "* Read the .readme file carefully before beginning\n",
    "* Data is not information. You will need to derive features to make any headway with this problem.\n",
    "* The only things worth investigating are things that potentially allow you to predict the target variable.\n",
    "* Be mindful of the difference between the data you will have before you investigate a trap and the data you will only have after\n",
    "* Be wary of extrapolating from small samples\n",
    "* Do not assume your training sample is perfectly representative of the population.\n",
    "* Any derived features you create or value setting you do will likewise have to be done for the test data, so plan for that by writing functions\n",
    "* Given our limited time in-class, ignore the spray and weather data\n",
    "* When you predict on the test data, make sure your predictor columns are in the exact same order as your predictor columns when you fit the model - the index position of the column, not the columns name, is what sklearn considers\n",
    "* Reference pandas to_csv for how to output dataframes to csv and consider whether the defaults are appropriate \n",
    "\n",
    "\n",
    "### 5-minute presentation (pause to compile 20 minute before class ends)\n",
    "* Explain the features you used, with visualizations demonstrating their relationship to the target\n",
    "* Which features proved to be key predictors\n",
    "* Models you evaluated\n",
    "* Your area under the curve in training, visualized, on your test data\n",
    "* Assume you have more time and convey next steps to advance your findings"
   ]
  },
  {
   "cell_type": "code",
   "execution_count": null,
   "metadata": {},
   "outputs": [],
   "source": []
  }
 ],
 "metadata": {
  "kernelspec": {
   "display_name": "Python 3",
   "language": "python",
   "name": "python3"
  },
  "language_info": {
   "codemirror_mode": {
    "name": "ipython",
    "version": 3
   },
   "file_extension": ".py",
   "mimetype": "text/x-python",
   "name": "python",
   "nbconvert_exporter": "python",
   "pygments_lexer": "ipython3",
   "version": "3.8.8"
  }
 },
 "nbformat": 4,
 "nbformat_minor": 2
}
