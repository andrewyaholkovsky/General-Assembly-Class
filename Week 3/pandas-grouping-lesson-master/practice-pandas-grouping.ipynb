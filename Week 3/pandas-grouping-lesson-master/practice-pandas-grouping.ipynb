{
 "cells": [
  {
   "cell_type": "markdown",
   "metadata": {},
   "source": [
    "<img src=\"http://imgur.com/1ZcRyrc.png\" style=\"float: left; margin: 20px; height: 55px\">\n",
    "\n",
    "## Practice Grouping Data with Pandas\n",
    "\n",
    "_Authors: Kiefer Katovich (SF), Dave Yerrington (SF), Mario Carrillo (SF)_\n",
    "\n",
    "---\n",
    "\n",
    "You are going to investigate UFO sightings around the US.  This lab will give you practice performing `groupby` operations to split data along multiple dimensions and investigate patterns between subsets of the data using basic aggregation.\n"
   ]
  },
  {
   "cell_type": "code",
   "execution_count": 7,
   "metadata": {},
   "outputs": [],
   "source": [
    "import pandas as pd\n",
    "import numpy as np\n",
    "import seaborn as sns\n",
    "import matplotlib.pyplot as plt\n",
    "sns.set_style('whitegrid')\n",
    "\n",
    "%matplotlib inline\n",
    "%config InlineBackend.figure_format ='retina'"
   ]
  },
  {
   "cell_type": "markdown",
   "metadata": {},
   "source": [
    "#### 1. Load and print the header for the UFO data."
   ]
  },
  {
   "cell_type": "code",
   "execution_count": 8,
   "metadata": {},
   "outputs": [],
   "source": [
    "ufo_csv = './datasets/ufo.csv'"
   ]
  },
  {
   "cell_type": "code",
   "execution_count": 11,
   "metadata": {},
   "outputs": [
    {
     "data": {
      "text/html": [
       "<div>\n",
       "<style scoped>\n",
       "    .dataframe tbody tr th:only-of-type {\n",
       "        vertical-align: middle;\n",
       "    }\n",
       "\n",
       "    .dataframe tbody tr th {\n",
       "        vertical-align: top;\n",
       "    }\n",
       "\n",
       "    .dataframe thead th {\n",
       "        text-align: right;\n",
       "    }\n",
       "</style>\n",
       "<table border=\"1\" class=\"dataframe\">\n",
       "  <thead>\n",
       "    <tr style=\"text-align: right;\">\n",
       "      <th></th>\n",
       "      <th>City</th>\n",
       "      <th>Colors Reported</th>\n",
       "      <th>Shape Reported</th>\n",
       "      <th>State</th>\n",
       "      <th>Time</th>\n",
       "    </tr>\n",
       "  </thead>\n",
       "  <tbody>\n",
       "    <tr>\n",
       "      <th>0</th>\n",
       "      <td>Ithaca</td>\n",
       "      <td>NaN</td>\n",
       "      <td>TRIANGLE</td>\n",
       "      <td>NY</td>\n",
       "      <td>6/1/1930 22:00</td>\n",
       "    </tr>\n",
       "    <tr>\n",
       "      <th>1</th>\n",
       "      <td>Willingboro</td>\n",
       "      <td>NaN</td>\n",
       "      <td>OTHER</td>\n",
       "      <td>NJ</td>\n",
       "      <td>6/30/1930 20:00</td>\n",
       "    </tr>\n",
       "    <tr>\n",
       "      <th>2</th>\n",
       "      <td>Holyoke</td>\n",
       "      <td>NaN</td>\n",
       "      <td>OVAL</td>\n",
       "      <td>CO</td>\n",
       "      <td>2/15/1931 14:00</td>\n",
       "    </tr>\n",
       "    <tr>\n",
       "      <th>3</th>\n",
       "      <td>Abilene</td>\n",
       "      <td>NaN</td>\n",
       "      <td>DISK</td>\n",
       "      <td>KS</td>\n",
       "      <td>6/1/1931 13:00</td>\n",
       "    </tr>\n",
       "    <tr>\n",
       "      <th>4</th>\n",
       "      <td>New York Worlds Fair</td>\n",
       "      <td>NaN</td>\n",
       "      <td>LIGHT</td>\n",
       "      <td>NY</td>\n",
       "      <td>4/18/1933 19:00</td>\n",
       "    </tr>\n",
       "  </tbody>\n",
       "</table>\n",
       "</div>"
      ],
      "text/plain": [
       "                   City Colors Reported Shape Reported State             Time\n",
       "0                Ithaca             NaN       TRIANGLE    NY   6/1/1930 22:00\n",
       "1           Willingboro             NaN          OTHER    NJ  6/30/1930 20:00\n",
       "2               Holyoke             NaN           OVAL    CO  2/15/1931 14:00\n",
       "3               Abilene             NaN           DISK    KS   6/1/1931 13:00\n",
       "4  New York Worlds Fair             NaN          LIGHT    NY  4/18/1933 19:00"
      ]
     },
     "execution_count": 11,
     "metadata": {},
     "output_type": "execute_result"
    }
   ],
   "source": [
    "# A:\n",
    "ufo = pd.read_csv(ufo_csv)\n",
    "ufo.head()"
   ]
  },
  {
   "cell_type": "markdown",
   "metadata": {},
   "source": [
    "#### 2. How many null values exist per column?"
   ]
  },
  {
   "cell_type": "code",
   "execution_count": 13,
   "metadata": {},
   "outputs": [
    {
     "data": {
      "text/plain": [
       "City                  47\n",
       "Colors Reported    63509\n",
       "Shape Reported      8402\n",
       "State                  0\n",
       "Time                   0\n",
       "dtype: int64"
      ]
     },
     "execution_count": 13,
     "metadata": {},
     "output_type": "execute_result"
    }
   ],
   "source": [
    "# A:\n",
    "ufo.isnull().sum()"
   ]
  },
  {
   "cell_type": "markdown",
   "metadata": {},
   "source": [
    "#### 3. Which city has the most observations?"
   ]
  },
  {
   "cell_type": "code",
   "execution_count": 25,
   "metadata": {},
   "outputs": [
    {
     "data": {
      "text/plain": [
       "City\n",
       "Seattle          646\n",
       "New York City    612\n",
       "Phoenix          533\n",
       "Las Vegas        442\n",
       "Portland         438\n",
       "Los Angeles      416\n",
       "San Diego        401\n",
       "Houston          340\n",
       "Chicago          337\n",
       "Miami            279\n",
       "dtype: int64"
      ]
     },
     "execution_count": 25,
     "metadata": {},
     "output_type": "execute_result"
    }
   ],
   "source": [
    "# A:\n",
    "ufocity = ufo.groupby(\"City\").apply(len).sort_values(ascending=False).head(10)\n",
    "ufocity"
   ]
  },
  {
   "cell_type": "markdown",
   "metadata": {},
   "source": [
    "#### 4. What is the observation count per shape?"
   ]
  },
  {
   "cell_type": "code",
   "execution_count": 31,
   "metadata": {},
   "outputs": [
    {
     "data": {
      "text/plain": [
       "Shape Reported\n",
       "LIGHT        16332\n",
       "TRIANGLE      7816\n",
       "CIRCLE        7725\n",
       "FIREBALL      6249\n",
       "OTHER         5506\n",
       "SPHERE        5231\n",
       "DISK          5226\n",
       "OVAL          3721\n",
       "FORMATION     2405\n",
       "CIGAR         1983\n",
       "VARIOUS       1957\n",
       "FLASH         1329\n",
       "RECTANGLE     1295\n",
       "CYLINDER      1252\n",
       "DIAMOND       1152\n",
       "CHEVRON        940\n",
       "EGG            733\n",
       "TEARDROP       723\n",
       "CONE           310\n",
       "CROSS          241\n",
       "DELTA            7\n",
       "ROUND            2\n",
       "CRESCENT         2\n",
       "HEXAGON          1\n",
       "DOME             1\n",
       "PYRAMID          1\n",
       "FLARE            1\n",
       "dtype: int64"
      ]
     },
     "execution_count": 31,
     "metadata": {},
     "output_type": "execute_result"
    }
   ],
   "source": [
    "# A:\n",
    "ufoshape = ufo.groupby(\"Shape Reported\").apply(len).sort_values(ascending=False)\n",
    "ufoshape"
   ]
  },
  {
   "cell_type": "code",
   "execution_count": 32,
   "metadata": {},
   "outputs": [
    {
     "data": {
      "text/plain": [
       "LIGHT        16332\n",
       "TRIANGLE      7816\n",
       "CIRCLE        7725\n",
       "FIREBALL      6249\n",
       "OTHER         5506\n",
       "SPHERE        5231\n",
       "DISK          5226\n",
       "OVAL          3721\n",
       "FORMATION     2405\n",
       "CIGAR         1983\n",
       "VARIOUS       1957\n",
       "FLASH         1329\n",
       "RECTANGLE     1295\n",
       "CYLINDER      1252\n",
       "DIAMOND       1152\n",
       "CHEVRON        940\n",
       "EGG            733\n",
       "TEARDROP       723\n",
       "CONE           310\n",
       "CROSS          241\n",
       "DELTA            7\n",
       "ROUND            2\n",
       "CRESCENT         2\n",
       "DOME             1\n",
       "HEXAGON          1\n",
       "PYRAMID          1\n",
       "FLARE            1\n",
       "Name: Shape Reported, dtype: int64"
      ]
     },
     "execution_count": 32,
     "metadata": {},
     "output_type": "execute_result"
    }
   ],
   "source": [
    "ufo['Shape Reported'].value_counts()"
   ]
  },
  {
   "cell_type": "markdown",
   "metadata": {},
   "source": [
    "#### 5. Create a subset of the data that includes one of the top 5 cities and one of the top 5 shapes."
   ]
  },
  {
   "cell_type": "code",
   "execution_count": 38,
   "metadata": {},
   "outputs": [],
   "source": [
    "# A:\n",
    "#ufo['Shape Reported'].value_counts()\n",
    "#newdf = df[(df.origin == \"JFK\") & (df.carrier == \"B6\")]\n",
    "ufo_city_shape = ufo[ufo.City == \"Seattle\"]\n",
    "ufo_city_shape\n",
    "\n",
    "cities = ['Seattle','New York City','Phoenix','Las Vegas','Portland']\n",
    "shapes = ['LIGHT','TRIANGLE','CIRCLE','FIREBALL','OTHER']\n",
    "subset = ufo[ufo['City'].isin(cities) & ufo['Shape Reported'].isin(shapes)]"
   ]
  },
  {
   "cell_type": "code",
   "execution_count": 43,
   "metadata": {},
   "outputs": [
    {
     "name": "stdout",
     "output_type": "stream",
     "text": [
      "(80543, 5)\n",
      "(1322, 5)\n"
     ]
    }
   ],
   "source": [
    "print (ufo.shape)\n",
    "print (subset.shape)"
   ]
  },
  {
   "cell_type": "markdown",
   "metadata": {},
   "source": [
    "#### 6. With the subset, find the percent of each shape seen by city."
   ]
  },
  {
   "cell_type": "code",
   "execution_count": 53,
   "metadata": {},
   "outputs": [
    {
     "data": {
      "text/plain": [
       "City           Shape Reported\n",
       "Las Vegas      CIRCLE            0.194444\n",
       "               FIREBALL          0.101852\n",
       "               LIGHT             0.393519\n",
       "               OTHER             0.166667\n",
       "               TRIANGLE          0.143519\n",
       "New York City  CIRCLE            0.201439\n",
       "               FIREBALL          0.125899\n",
       "               LIGHT             0.377698\n",
       "               OTHER             0.151079\n",
       "               TRIANGLE          0.143885\n",
       "Phoenix        CIRCLE            0.127820\n",
       "               FIREBALL          0.131579\n",
       "               LIGHT             0.398496\n",
       "               OTHER             0.172932\n",
       "               TRIANGLE          0.169173\n",
       "Portland       CIRCLE            0.199134\n",
       "               FIREBALL          0.125541\n",
       "               LIGHT             0.432900\n",
       "               OTHER             0.125541\n",
       "               TRIANGLE          0.116883\n",
       "Seattle        CIRCLE            0.151057\n",
       "               FIREBALL          0.166163\n",
       "               LIGHT             0.389728\n",
       "               OTHER             0.154079\n",
       "               TRIANGLE          0.138973\n",
       "Name: State, dtype: float64"
      ]
     },
     "execution_count": 53,
     "metadata": {},
     "output_type": "execute_result"
    }
   ],
   "source": [
    "# A\n",
    "subset.groupby([\"City\",\"Shape Reported\"])[\"State\"].apply(len)/subset.groupby([\"City\"])[\"State\"].apply(len)"
   ]
  },
  {
   "cell_type": "markdown",
   "metadata": {},
   "source": [
    "**7. Make a grouped bar chart with your subset data showing counts of shapes seen by city.**"
   ]
  },
  {
   "cell_type": "code",
   "execution_count": 55,
   "metadata": {},
   "outputs": [
    {
     "data": {
      "text/plain": [
       "<AxesSubplot:xlabel='City'>"
      ]
     },
     "execution_count": 55,
     "metadata": {},
     "output_type": "execute_result"
    },
    {
     "data": {
      "image/png": "[encoded data removed]",
      "text/plain": [
       "<Figure size 432x288 with 1 Axes>"
      ]
     },
     "metadata": {
      "image/png": {
       "height": 314,
       "width": 372
      },
      "needs_background": "light"
     },
     "output_type": "display_data"
    }
   ],
   "source": [
    "# A:\n",
    "subset.groupby([\"City\",\"Shape Reported\"])[\"State\"].apply(len).unstack().plot(kind='bar')"
   ]
  },
  {
   "cell_type": "code",
   "execution_count": null,
   "metadata": {},
   "outputs": [],
   "source": []
  }
 ],
 "metadata": {
  "kernelspec": {
   "display_name": "Python 3",
   "language": "python",
   "name": "python3"
  },
  "language_info": {
   "codemirror_mode": {
    "name": "ipython",
    "version": 3
   },
   "file_extension": ".py",
   "mimetype": "text/x-python",
   "name": "python",
   "nbconvert_exporter": "python",
   "pygments_lexer": "ipython3",
   "version": "3.8.8"
  }
 },
 "nbformat": 4,
 "nbformat_minor": 2
}
