{
 "cells": [
  {
   "cell_type": "markdown",
   "metadata": {},
   "source": [
    "# Team Travel Insurance\n",
    "\n",
    "---\n",
    "\n",
    "Context  <br /> \n",
    "A Tour & Travels Company Is Offering Travel Insurance Package To Their Customers.\n",
    "The New Insurance Package Also Includes Covid Coverage.\n",
    "The Company Wants To Know Which Customers Would Be Interested In Buying It Based On Its Database History.\n",
    "The Insurance Was Offered To Some Of The Customers In 2019 And The Given Data Has Been Extracted From The Performance/Sales Of The Package During That Period.\n",
    "The Data Is Provided For Almost 2000 Of Its Previous Customers.\n",
    "\n",
    "Focus on:\n",
    "- Isolating and analyzing the target variable\n",
    "- Cleaning data\n",
    "    - Assessing valid types\n",
    "    - Converting corrupted values\n",
    "    - Removing invalid data\n",
    "- Identifying features that have relationships to your target variable and plotting the relationship\n",
    "- Examining potential outliers and documenting limitations of the dataset\n",
    "- Deriving information that might predict your target variable\n",
    "- Articulating the potential value of your findings to a buisness, company, government, or other organization\n",
    "\n",
    "\n",
    "**Also, we would like to know:**\n",
    " - Is this a good source of data?\n",
    " - Why / why not?\n",
    "\n",
    "\n",
    "One of the needs for data science in organizations is to bring measure to vague problems. What can be measured in this dataset with certainty? Drive your presentation from what can be measured, reported. \n",
    "\n",
    "Also, if possible, suggest what can be done with this data in terms of actionable outcomes and to what extent.\n",
    "     \n",
    "\n",
    "Content\n",
    "* Age- Age Of The Customer\n",
    "* Employment Type- The Sector In Which Customer Is Employed\n",
    "* GraduateOrNot- Whether The Customer Is College Graduate Or Not\n",
    "* AnnualIncome- The Yearly Income Of The Customer In Indian Rupees[Rounded To Nearest 50 Thousand Rupees]\n",
    "* FamilyMembers- Number Of Members In Customer's Family\n",
    "* ChronicDisease- Whether The Customer Suffers From Any Major Disease Or Conditions Like Diabetes/High BP or Asthama,etc.\n",
    "* FrequentFlyer- Derived Data Based On Customer's History Of Booking Air Tickets On Atleast 4 Different Instances In The Last 2 Years[2017-2019].\n",
    "* EverTravelledAbroad- Has The Customer Ever Travelled To A Foreign Country[Not Necessarily Using The Company's Services]\n",
    "* TravelInsurance- Did The Customer Buy Travel Insurance Package During Introductory Offering Held In The Year 2019.\n",
    "\n",
    "\n",
    "Travel Insurance Prediction Data. Retrieved 10.3.21 from https://www.kaggle.com/tejashvi14/travel-insurance-prediction-data."
   ]
  },
  {
   "cell_type": "code",
   "execution_count": null,
   "metadata": {},
   "outputs": [],
   "source": [
    "import pandas as pd\n",
    "import numpy as np\n",
    "import seaborn as sns\n",
    "import matplotlib.pyplot as plt\n",
    "\n",
    "plt.style.use('fivethirtyeight')\n",
    "%matplotlib inline\n",
    "\n",
    "\n",
    "\n",
    "filepath = './data/TravelInsurancePrediction.csv'\n"
   ]
  },
  {
   "cell_type": "code",
   "execution_count": null,
   "metadata": {},
   "outputs": [],
   "source": [
    "ti = pd.read_csv(filepath)\n",
    "ti.head()"
   ]
  },
  {
   "cell_type": "code",
   "execution_count": null,
   "metadata": {},
   "outputs": [],
   "source": [
    "# split into train and test\n",
    "train = ti.sample(frac=.9)\n",
    "mask = ~ti.index.isin(train.index)\n",
    "test = ti[mask].copy()\n",
    "print(train.shape[0],test.shape[0])"
   ]
  },
  {
   "cell_type": "code",
   "execution_count": null,
   "metadata": {},
   "outputs": [],
   "source": [
    "# start with the insight that no government sector employees with college degrees purchashed insurance\n",
    "# it also sees like non-governmental employees buy more insurance...\n",
    "train.groupby(['Employment Type','GraduateOrNot'])['TravelInsurance'].agg(['mean','count'])\n",
    "\n",
    "#ti[mask]['TravelInsurance'].sum()"
   ]
  },
  {
   "cell_type": "code",
   "execution_count": null,
   "metadata": {},
   "outputs": [],
   "source": [
    "# so I feel like this cohort is resolved and I'm going to look at the remaining people with them split off\n",
    "mask = (train['Employment Type']=='Government Sector')&(train['GraduateOrNot']=='No')\n",
    "split_train = train.drop(train[mask].index).copy()"
   ]
  },
  {
   "cell_type": "code",
   "execution_count": null,
   "metadata": {},
   "outputs": [],
   "source": [
    "split_train.head(1)"
   ]
  },
  {
   "cell_type": "code",
   "execution_count": null,
   "metadata": {},
   "outputs": [],
   "source": [
    "# larger families seem to buy more insurance\n",
    "split_train.groupby(['FamilyMembers'])['TravelInsurance'].agg(['mean','count'])"
   ]
  },
  {
   "cell_type": "code",
   "execution_count": null,
   "metadata": {},
   "outputs": [],
   "source": [
    "# chronic diseases don't seem to factor too much...\n",
    "split_train.groupby(['ChronicDiseases'])['TravelInsurance'].agg(['mean','count'])"
   ]
  },
  {
   "cell_type": "code",
   "execution_count": null,
   "metadata": {},
   "outputs": [],
   "source": [
    "# age is pretty noisy...\n",
    "split_train.groupby(['Age'])['TravelInsurance'].agg(['mean','count'])"
   ]
  },
  {
   "cell_type": "code",
   "execution_count": null,
   "metadata": {},
   "outputs": [],
   "source": [
    "# now we're getting somewhere, Frequent Flyers buy at a rate 2x higher\n",
    "split_train.groupby(['FrequentFlyer'])['TravelInsurance'].agg(['mean','count'])"
   ]
  },
  {
   "cell_type": "code",
   "execution_count": null,
   "metadata": {},
   "outputs": [],
   "source": [
    "# people who have traveled abroad buy at a rate 3x...\n",
    "split_train.groupby(['EverTravelledAbroad'])['TravelInsurance'].agg(['mean','count'])\n"
   ]
  },
  {
   "cell_type": "code",
   "execution_count": null,
   "metadata": {},
   "outputs": [],
   "source": [
    "# if we combine them, we see a further splitting of customers... \n",
    "split_train.groupby(['EverTravelledAbroad','FrequentFlyer'])['TravelInsurance'].agg(['mean','count'])"
   ]
  },
  {
   "cell_type": "code",
   "execution_count": null,
   "metadata": {},
   "outputs": [],
   "source": [
    "# affluent people definitely buy more insurance, but how should we read this?\n",
    "sns.boxplot(y=split_train['AnnualIncome'],x=split_train['TravelInsurance']);"
   ]
  },
  {
   "cell_type": "code",
   "execution_count": null,
   "metadata": {},
   "outputs": [],
   "source": [
    "def compute_purchase_rate_at_income_thresholds(df,min_pct=80, max_pct=96):\n",
    "    incomes = []\n",
    "    # iterate through different percentages of income between 80 and 95 percent\n",
    "    for i in range(min_pct,max_pct,3):\n",
    "        income = df['AnnualIncome'].quantile(i*.01)\n",
    "        if income in incomes:\n",
    "            continue\n",
    "        else:\n",
    "            incomes.append(income)\n",
    "        mask = df['AnnualIncome']>=income\n",
    "        print('income above '+str(int(income))+ ' '+str(round(\n",
    "            df[mask]['TravelInsurance'].mean(),2))+ '% of people bought insurance, '+str(\n",
    "            df[mask].shape[0])+' in total')\n",
    "    return"
   ]
  },
  {
   "cell_type": "code",
   "execution_count": null,
   "metadata": {},
   "outputs": [],
   "source": [
    "compute_purchase_rate_at_income_thresholds(split_train)"
   ]
  },
  {
   "cell_type": "code",
   "execution_count": null,
   "metadata": {},
   "outputs": [],
   "source": [
    "#<37% of people bought insurance, but 91% of people with income above 1.35M\n",
    "# so we create a boolean value to mark income >= 1.35M\n",
    "split_train['income_thresh'] = split_train['AnnualIncome'].map(lambda x: 1 if x>=1350000 else 0)\n",
    "split_train.sample(3)"
   ]
  },
  {
   "cell_type": "code",
   "execution_count": null,
   "metadata": {},
   "outputs": [],
   "source": [
    "# so we combine our three strongest features and we see, that affluent people almost always buy insurance\n",
    "# except if they have never traveled abroad and are not a frequent flyer\n",
    "split_train.groupby(['EverTravelledAbroad','FrequentFlyer','income_thresh'])['TravelInsurance'].agg(['mean','count'])"
   ]
  },
  {
   "cell_type": "code",
   "execution_count": null,
   "metadata": {},
   "outputs": [],
   "source": [
    "# so we pull these people out and continue our analysis of the remaining people\n",
    "mask = (split_train['AnnualIncome']>=1350000)&(\n",
    "    (split_train['EverTravelledAbroad']=='Yes')|(split_train['FrequentFlyer']=='Yes'))\n",
    "split_train.drop(split_train[mask].index,inplace=True)"
   ]
  },
  {
   "cell_type": "code",
   "execution_count": null,
   "metadata": {},
   "outputs": [],
   "source": [
    "# just as high income was different, really low income is different\n",
    "mask = split_train['AnnualIncome']<=split_train['AnnualIncome'].quantile(.07)\n",
    "print(split_train['AnnualIncome'].quantile(.07))\n",
    "print(split_train[mask].shape[0])\n",
    "split_train[mask]['TravelInsurance'].mean()"
   ]
  },
  {
   "cell_type": "code",
   "execution_count": null,
   "metadata": {},
   "outputs": [],
   "source": [
    "# the next tranche of income buys at average rates\n",
    "mask = (split_train['AnnualIncome']>=split_train['AnnualIncome'].quantile(.08))&(\n",
    "    split_train['AnnualIncome']<=split_train['AnnualIncome'].quantile(.12))\n",
    "print(split_train[mask].shape[0])\n",
    "split_train[mask]['TravelInsurance'].mean()"
   ]
  },
  {
   "cell_type": "code",
   "execution_count": null,
   "metadata": {},
   "outputs": [],
   "source": [
    "# so let's pull out the least affluent people\n",
    "mask = split_train['AnnualIncome']<=350000\n",
    "split_train.drop(split_train[mask].index,inplace=True)"
   ]
  },
  {
   "cell_type": "code",
   "execution_count": null,
   "metadata": {},
   "outputs": [],
   "source": [
    "# this no longer as meaningful after you account for high income\n",
    "split_train.groupby(['EverTravelledAbroad','FrequentFlyer'])['TravelInsurance'].agg(['mean','count'])"
   ]
  },
  {
   "cell_type": "code",
   "execution_count": null,
   "metadata": {},
   "outputs": [],
   "source": [
    "# but we can see how other features still split the data\n",
    "split_train.groupby(['GraduateOrNot'])['TravelInsurance'].agg(['mean','count'])"
   ]
  },
  {
   "cell_type": "code",
   "execution_count": null,
   "metadata": {},
   "outputs": [],
   "source": [
    "# affluence still matters\n",
    "print(split_train['TravelInsurance'].mean())\n",
    "compute_purchase_rate_at_income_thresholds(split_train)"
   ]
  },
  {
   "cell_type": "code",
   "execution_count": null,
   "metadata": {},
   "outputs": [],
   "source": [
    "# now that we've accounted for wealthy people, age seems to matter quite a bit, \n",
    "# with older people more likely to buy insurance\n",
    "split_train.groupby(['Age'])['TravelInsurance'].agg(['mean','count'])"
   ]
  },
  {
   "cell_type": "code",
   "execution_count": null,
   "metadata": {},
   "outputs": [],
   "source": [
    "# but we can try combining age with other variables to look for interactions, and look what we find... \n",
    "# not merely older people, but specifically older people with large families buy insurance at high rates\n",
    "split_train['age_thresh'] = split_train['Age'].map(lambda x: 1 if x>=33 else 0)\n",
    "split_train.groupby(['age_thresh','FamilyMembers'])['TravelInsurance'].agg(['mean','count'])"
   ]
  },
  {
   "cell_type": "code",
   "execution_count": null,
   "metadata": {},
   "outputs": [],
   "source": [
    "# so we pull these people out\n",
    "mask = (split_train['Age']>=33)&(split_train['FamilyMembers']>=6)\n",
    "split_train.drop(split_train[mask].index,inplace=True)"
   ]
  },
  {
   "cell_type": "code",
   "execution_count": null,
   "metadata": {},
   "outputs": [],
   "source": [
    "# new baseline is 20%\n",
    "split_train['TravelInsurance'].mean()"
   ]
  },
  {
   "cell_type": "code",
   "execution_count": null,
   "metadata": {},
   "outputs": [],
   "source": [
    "# there is some more information here that we could mine, and it would help, but it seems marginal\n",
    "\n",
    "# income seems to matter a bit\n",
    "split_train['income_thresh'] = split_train['AnnualIncome'].map(lambda x: 1 if x>=1300000 else 0)\n",
    "split_train.groupby(['income_thresh'])['TravelInsurance'].agg(['mean','count'])"
   ]
  },
  {
   "cell_type": "code",
   "execution_count": null,
   "metadata": {},
   "outputs": [],
   "source": [
    "# non graduates seem to buy at a bit higher rate\n",
    "split_train.groupby(['GraduateOrNot'])['TravelInsurance'].agg(['mean','count'])"
   ]
  },
  {
   "cell_type": "code",
   "execution_count": null,
   "metadata": {},
   "outputs": [],
   "source": [
    "# chronic disases matter a bit..\n",
    "split_train.groupby(['ChronicDiseases'])['TravelInsurance'].agg(['mean','count'])"
   ]
  },
  {
   "cell_type": "code",
   "execution_count": null,
   "metadata": {},
   "outputs": [],
   "source": [
    "# but let's just use the features we derived\n",
    "\n",
    "def add_feature_column(df, col, mask):\n",
    "    df.loc[df[mask].index,col]=1\n",
    "    df[col].fillna(0,inplace=True)\n",
    "    return df\n",
    "    \n",
    "\n",
    "def add_features_for_training(df):\n",
    "\n",
    "    # affluence + experience traveling\n",
    "    mask = (df['AnnualIncome']>=1350000)&(\n",
    "        (df['EverTravelledAbroad']=='Yes')|(df['FrequentFlyer']=='Yes'))\n",
    "    df = add_feature_column(df, col='high_inc_travel_exp',mask=mask)\n",
    "   \n",
    "\n",
    "    # 5% percentile income\n",
    "    mask = df['AnnualIncome']<=350000\n",
    "    df = add_feature_column(df, col='low_inc',mask=mask)\n",
    "\n",
    "    # goverment workers without a degree\n",
    "    mask = (df['Employment Type']=='Government Sector')&(df['GraduateOrNot']=='No')\n",
    "    df = add_feature_column(df, col='gov_no_deg',mask=mask)\n",
    "\n",
    "    # older people with large families\n",
    "    mask = (df['Age']>=33)&(df['FamilyMembers']>=6)\n",
    "    df = add_feature_column(df, col='lg_fam_older',mask=mask)\n",
    "    \n",
    "    return df\n"
   ]
  },
  {
   "cell_type": "code",
   "execution_count": null,
   "metadata": {},
   "outputs": [],
   "source": [
    "train = add_features_for_training(train)\n",
    "test = add_features_for_training(test)"
   ]
  },
  {
   "cell_type": "code",
   "execution_count": null,
   "metadata": {},
   "outputs": [],
   "source": [
    "# pull out our features \n",
    "train_features = ['high_inc_travel_exp','low_inc','gov_no_deg','lg_fam_older']\n",
    "X_train = train[train_features].copy()\n",
    "X_test = train['TravelInsurance']\n",
    "# identical features in test data\n",
    "y_train = test[train_features].copy()\n",
    "y_test = test['TravelInsurance']"
   ]
  },
  {
   "cell_type": "code",
   "execution_count": null,
   "metadata": {},
   "outputs": [],
   "source": [
    "from sklearn.linear_model import LogisticRegression"
   ]
  },
  {
   "cell_type": "code",
   "execution_count": null,
   "metadata": {},
   "outputs": [],
   "source": [
    "# instantiate\n",
    "logr = LogisticRegression()\n",
    "# fit on training data, happens inplace\n",
    "logr.fit(X_train,X_test)"
   ]
  },
  {
   "cell_type": "code",
   "execution_count": null,
   "metadata": {},
   "outputs": [],
   "source": [
    "# score on test data\n",
    "logr.score(y_train,y_test)"
   ]
  },
  {
   "cell_type": "code",
   "execution_count": null,
   "metadata": {},
   "outputs": [],
   "source": [
    "# compare to baseline - we just predict the modal value - you'd be right ~64% of the time if you just predicted \n",
    "# no one buys travel insurance\n",
    "1-X_test.mean()"
   ]
  },
  {
   "cell_type": "code",
   "execution_count": null,
   "metadata": {},
   "outputs": [],
   "source": [
    "# so because of the features we derived via our EDA, our predictions are 20% better"
   ]
  },
  {
   "cell_type": "code",
   "execution_count": null,
   "metadata": {},
   "outputs": [],
   "source": [
    "# we can pull out out our preds and look at them\n",
    "# what did the model seem to do that we couldn't have accomplished just using some averages instead?\n",
    "y_train['preds'] = logr.predict_proba(y_train)[:,1:]\n",
    "y_train.drop_duplicates(subset=train_features)"
   ]
  },
  {
   "cell_type": "code",
   "execution_count": null,
   "metadata": {},
   "outputs": [],
   "source": []
  }
 ],
 "metadata": {
  "kernelspec": {
   "display_name": "Python 3",
   "language": "python",
   "name": "python3"
  },
  "language_info": {
   "codemirror_mode": {
    "name": "ipython",
    "version": 3
   },
   "file_extension": ".py",
   "mimetype": "text/x-python",
   "name": "python",
   "nbconvert_exporter": "python",
   "pygments_lexer": "ipython3",
   "version": "3.8.5"
  }
 },
 "nbformat": 4,
 "nbformat_minor": 2
}
