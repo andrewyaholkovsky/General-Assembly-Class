{
 "cells": [
  {
   "cell_type": "code",
   "execution_count": 1,
   "id": "23bc9eb8",
   "metadata": {},
   "outputs": [
    {
     "data": {
      "text/html": [
       "<div>\n",
       "<style scoped>\n",
       "    .dataframe tbody tr th:only-of-type {\n",
       "        vertical-align: middle;\n",
       "    }\n",
       "\n",
       "    .dataframe tbody tr th {\n",
       "        vertical-align: top;\n",
       "    }\n",
       "\n",
       "    .dataframe thead th {\n",
       "        text-align: right;\n",
       "    }\n",
       "</style>\n",
       "<table border=\"1\" class=\"dataframe\">\n",
       "  <thead>\n",
       "    <tr style=\"text-align: right;\">\n",
       "      <th></th>\n",
       "      <th>order_id</th>\n",
       "      <th>quantity</th>\n",
       "      <th>item_name</th>\n",
       "      <th>choice_description</th>\n",
       "      <th>item_price</th>\n",
       "    </tr>\n",
       "  </thead>\n",
       "  <tbody>\n",
       "    <tr>\n",
       "      <th>0</th>\n",
       "      <td>1</td>\n",
       "      <td>1</td>\n",
       "      <td>Chips and Fresh Tomato Salsa</td>\n",
       "      <td>NaN</td>\n",
       "      <td>$2.39</td>\n",
       "    </tr>\n",
       "    <tr>\n",
       "      <th>1</th>\n",
       "      <td>1</td>\n",
       "      <td>1</td>\n",
       "      <td>Izze</td>\n",
       "      <td>[Clementine]</td>\n",
       "      <td>$3.39</td>\n",
       "    </tr>\n",
       "    <tr>\n",
       "      <th>2</th>\n",
       "      <td>1</td>\n",
       "      <td>1</td>\n",
       "      <td>Nantucket Nectar</td>\n",
       "      <td>[Apple]</td>\n",
       "      <td>$3.39</td>\n",
       "    </tr>\n",
       "    <tr>\n",
       "      <th>3</th>\n",
       "      <td>1</td>\n",
       "      <td>1</td>\n",
       "      <td>Chips and Tomatillo-Green Chili Salsa</td>\n",
       "      <td>NaN</td>\n",
       "      <td>$2.39</td>\n",
       "    </tr>\n",
       "    <tr>\n",
       "      <th>4</th>\n",
       "      <td>2</td>\n",
       "      <td>2</td>\n",
       "      <td>Chicken Bowl</td>\n",
       "      <td>[Tomatillo-Red Chili Salsa (Hot), [Black Beans...</td>\n",
       "      <td>$16.98</td>\n",
       "    </tr>\n",
       "  </tbody>\n",
       "</table>\n",
       "</div>"
      ],
      "text/plain": [
       "   order_id  quantity                              item_name  \\\n",
       "0         1         1           Chips and Fresh Tomato Salsa   \n",
       "1         1         1                                   Izze   \n",
       "2         1         1                       Nantucket Nectar   \n",
       "3         1         1  Chips and Tomatillo-Green Chili Salsa   \n",
       "4         2         2                           Chicken Bowl   \n",
       "\n",
       "                                  choice_description item_price  \n",
       "0                                                NaN     $2.39   \n",
       "1                                       [Clementine]     $3.39   \n",
       "2                                            [Apple]     $3.39   \n",
       "3                                                NaN     $2.39   \n",
       "4  [Tomatillo-Red Chili Salsa (Hot), [Black Beans...    $16.98   "
      ]
     },
     "execution_count": 1,
     "metadata": {},
     "output_type": "execute_result"
    }
   ],
   "source": [
    "import pandas as pd\n",
    "import seaborn as sns\n",
    "chip_file = './datasets/chipotle.tsv'\n",
    "chipotle = pd.read_csv(chip_file,sep='\\t')\n",
    "chipotle.head()"
   ]
  },
  {
   "cell_type": "markdown",
   "id": "dc641c05",
   "metadata": {},
   "source": [
    "# Feedback \n",
    "\n",
    "## practices to correct\n",
    "\n",
    "#### 3. Make a new categorical column for broader item type\n",
    "\n",
    "Currently we have many different item types. Make a new column that only has 5 different broad item types. You should have these types in the new column in your DataFrame:\n",
    "\n",
    "    chips\n",
    "    drink\n",
    "    burrito\n",
    "    taco\n",
    "    salad\n",
    "    \n",
    "(Put the `bowl` items into `burrito` category).\n",
    "\n",
    "**I think a lot of people read put the bowl in the burrito column and then didn't think too hard about the details**"
   ]
  },
  {
   "cell_type": "code",
   "execution_count": 2,
   "id": "bd5f0396",
   "metadata": {},
   "outputs": [],
   "source": [
    "# this was very common\n",
    "def item_type(value):\n",
    "    value = value.lower()\n",
    "    if 'chips' in value:\n",
    "        return 'chips'\n",
    "    elif ('burrito' in value) or ('bowl' in value):\n",
    "        return 'burrito'\n",
    "    elif 'taco' in value:\n",
    "        return 'taco'\n",
    "    elif 'salad' in value:\n",
    "        return 'salad'\n",
    "    else:\n",
    "        return 'drink'"
   ]
  },
  {
   "cell_type": "code",
   "execution_count": 3,
   "id": "407a32af",
   "metadata": {},
   "outputs": [
    {
     "data": {
      "text/plain": [
       "array(['Chips and Fresh Tomato Salsa', 'Izze', 'Nantucket Nectar',\n",
       "       'Chips and Tomatillo-Green Chili Salsa', 'Chicken Bowl',\n",
       "       'Side of Chips', 'Steak Burrito', 'Steak Soft Tacos',\n",
       "       'Chips and Guacamole', 'Chicken Crispy Tacos',\n",
       "       'Chicken Soft Tacos', 'Chicken Burrito', 'Canned Soda',\n",
       "       'Barbacoa Burrito', 'Carnitas Burrito', 'Carnitas Bowl',\n",
       "       'Bottled Water', 'Chips and Tomatillo Green Chili Salsa',\n",
       "       'Barbacoa Bowl', 'Chips', 'Chicken Salad Bowl', 'Steak Bowl',\n",
       "       'Barbacoa Soft Tacos', 'Veggie Burrito', 'Veggie Bowl',\n",
       "       'Steak Crispy Tacos', 'Chips and Tomatillo Red Chili Salsa',\n",
       "       'Barbacoa Crispy Tacos', 'Veggie Salad Bowl',\n",
       "       'Chips and Roasted Chili-Corn Salsa',\n",
       "       'Chips and Roasted Chili Corn Salsa', 'Carnitas Soft Tacos',\n",
       "       'Chicken Salad', 'Canned Soft Drink', 'Steak Salad Bowl',\n",
       "       '6 Pack Soft Drink', 'Chips and Tomatillo-Red Chili Salsa', 'Bowl',\n",
       "       'Burrito', 'Crispy Tacos', 'Carnitas Crispy Tacos', 'Steak Salad',\n",
       "       'Chips and Mild Fresh Tomato Salsa', 'Veggie Soft Tacos',\n",
       "       'Carnitas Salad Bowl', 'Barbacoa Salad Bowl', 'Salad',\n",
       "       'Veggie Crispy Tacos', 'Veggie Salad', 'Carnitas Salad'],\n",
       "      dtype=object)"
      ]
     },
     "execution_count": 3,
     "metadata": {},
     "output_type": "execute_result"
    }
   ],
   "source": [
    "# there are sufficiently few items in the table that you can just look at them all\n",
    "chipotle.item_name.unique()"
   ]
  },
  {
   "cell_type": "markdown",
   "id": "8ace4915",
   "metadata": {},
   "source": [
    "**but is a salad bowl a burrito?**"
   ]
  },
  {
   "cell_type": "code",
   "execution_count": 4,
   "id": "44b37dd8",
   "metadata": {},
   "outputs": [],
   "source": [
    "# correction\n",
    "def item_type(value):\n",
    "    value = value.lower()\n",
    "    if 'chips' in value:\n",
    "        return 'chips'\n",
    "    # deal with salad before you deal with bowl\n",
    "    elif 'salad' in value:\n",
    "        return 'salad'\n",
    "    elif ('burrito' in value) or ('bowl' in value):\n",
    "        return 'burrito'\n",
    "    elif 'taco' in value:\n",
    "        return 'taco'\n",
    "    else:\n",
    "        return 'drink'"
   ]
  },
  {
   "cell_type": "markdown",
   "id": "3c873863",
   "metadata": {},
   "source": [
    "**annotate your code, both for a reader and for your own reference**"
   ]
  },
  {
   "cell_type": "code",
   "execution_count": 5,
   "id": "5b574c80",
   "metadata": {},
   "outputs": [
    {
     "data": {
      "text/html": [
       "<div>\n",
       "<style scoped>\n",
       "    .dataframe tbody tr th:only-of-type {\n",
       "        vertical-align: middle;\n",
       "    }\n",
       "\n",
       "    .dataframe tbody tr th {\n",
       "        vertical-align: top;\n",
       "    }\n",
       "\n",
       "    .dataframe thead th {\n",
       "        text-align: right;\n",
       "    }\n",
       "</style>\n",
       "<table border=\"1\" class=\"dataframe\">\n",
       "  <thead>\n",
       "    <tr style=\"text-align: right;\">\n",
       "      <th></th>\n",
       "      <th>order_id</th>\n",
       "      <th>quantity</th>\n",
       "      <th>item_name</th>\n",
       "      <th>choice_description</th>\n",
       "      <th>item_price</th>\n",
       "      <th>category</th>\n",
       "    </tr>\n",
       "  </thead>\n",
       "  <tbody>\n",
       "    <tr>\n",
       "      <th>44</th>\n",
       "      <td>20</td>\n",
       "      <td>1</td>\n",
       "      <td>Chicken Salad Bowl</td>\n",
       "      <td>[Fresh Tomato Salsa, [Fajita Vegetables, Pinto...</td>\n",
       "      <td>8.75</td>\n",
       "      <td>salad</td>\n",
       "    </tr>\n",
       "    <tr>\n",
       "      <th>186</th>\n",
       "      <td>83</td>\n",
       "      <td>1</td>\n",
       "      <td>Veggie Salad Bowl</td>\n",
       "      <td>[Fresh Tomato Salsa, [Fajita Vegetables, Rice,...</td>\n",
       "      <td>11.25</td>\n",
       "      <td>salad</td>\n",
       "    </tr>\n",
       "    <tr>\n",
       "      <th>281</th>\n",
       "      <td>123</td>\n",
       "      <td>2</td>\n",
       "      <td>Steak Salad Bowl</td>\n",
       "      <td>[Tomatillo Red Chili Salsa, [Black Beans, Chee...</td>\n",
       "      <td>23.78</td>\n",
       "      <td>salad</td>\n",
       "    </tr>\n",
       "    <tr>\n",
       "      <th>1132</th>\n",
       "      <td>468</td>\n",
       "      <td>1</td>\n",
       "      <td>Carnitas Salad Bowl</td>\n",
       "      <td>[Fresh Tomato Salsa, [Rice, Black Beans, Chees...</td>\n",
       "      <td>11.89</td>\n",
       "      <td>salad</td>\n",
       "    </tr>\n",
       "    <tr>\n",
       "      <th>1229</th>\n",
       "      <td>501</td>\n",
       "      <td>1</td>\n",
       "      <td>Barbacoa Salad Bowl</td>\n",
       "      <td>[Fresh Tomato Salsa, [Rice, Fajita Vegetables,...</td>\n",
       "      <td>11.89</td>\n",
       "      <td>salad</td>\n",
       "    </tr>\n",
       "  </tbody>\n",
       "</table>\n",
       "</div>"
      ],
      "text/plain": [
       "      order_id  quantity            item_name  \\\n",
       "44          20         1   Chicken Salad Bowl   \n",
       "186         83         1    Veggie Salad Bowl   \n",
       "281        123         2     Steak Salad Bowl   \n",
       "1132       468         1  Carnitas Salad Bowl   \n",
       "1229       501         1  Barbacoa Salad Bowl   \n",
       "\n",
       "                                     choice_description  item_price category  \n",
       "44    [Fresh Tomato Salsa, [Fajita Vegetables, Pinto...        8.75    salad  \n",
       "186   [Fresh Tomato Salsa, [Fajita Vegetables, Rice,...       11.25    salad  \n",
       "281   [Tomatillo Red Chili Salsa, [Black Beans, Chee...       23.78    salad  \n",
       "1132  [Fresh Tomato Salsa, [Rice, Black Beans, Chees...       11.89    salad  \n",
       "1229  [Fresh Tomato Salsa, [Rice, Fajita Vegetables,...       11.89    salad  "
      ]
     },
     "execution_count": 5,
     "metadata": {},
     "output_type": "execute_result"
    }
   ],
   "source": [
    "# replace and cast to float\n",
    "chipotle['item_price'] = chipotle.item_price.map(lambda x: float(x.replace('$',\"\")))\n",
    "# create new category\n",
    "chipotle['category'] = chipotle.item_name.map(item_type)\n",
    "mask = chipotle.item_name.str.contains('Salad Bowl')\n",
    "chipotle[mask].drop_duplicates(subset='item_name')"
   ]
  },
  {
   "cell_type": "markdown",
   "id": "97ad9d93",
   "metadata": {},
   "source": [
    "**you don't want to overwrite built in functions and jupyter alerts you when you're using them**"
   ]
  },
  {
   "cell_type": "code",
   "execution_count": 6,
   "id": "8eb5a968",
   "metadata": {},
   "outputs": [],
   "source": [
    "def item_type(value):\n",
    "    value = value.lower()\n",
    "    if 'chips' in value:\n",
    "        type = 'chips'\n",
    "    # deal with salad before you deal with bowl\n",
    "    elif 'salad' in value:\n",
    "        type = 'salad'\n",
    "    elif ('burrito' in value) or ('bowl' in value):\n",
    "        type = 'burrito'\n",
    "    elif 'taco' in value:\n",
    "        type = 'taco'\n",
    "    else:\n",
    "        type = 'drink'\n",
    "    return type"
   ]
  },
  {
   "cell_type": "markdown",
   "id": "24f6c711",
   "metadata": {},
   "source": [
    "#### 7. Make a barplot of your price mean by the broad type category."
   ]
  },
  {
   "cell_type": "code",
   "execution_count": 7,
   "id": "08d58f03",
   "metadata": {},
   "outputs": [],
   "source": [
    "# get unit price\n",
    "chipotle['unit_price'] = chipotle.item_price/chipotle.quantity\n",
    "# get mean price for each category\n",
    "grouped_cat = chipotle.groupby('category')['unit_price'].mean().reset_index()"
   ]
  },
  {
   "cell_type": "code",
   "execution_count": 8,
   "id": "983b510e",
   "metadata": {},
   "outputs": [
    {
     "data": {
      "text/plain": [
       "<AxesSubplot:ylabel='category'>"
      ]
     },
     "execution_count": 8,
     "metadata": {},
     "output_type": "execute_result"
    },
    {
     "data": {
      "image/png": "[encoded data removed]",
      "text/plain": [
       "<Figure size 432x288 with 1 Axes>"
      ]
     },
     "metadata": {
      "needs_background": "light"
     },
     "output_type": "display_data"
    }
   ],
   "source": [
    "# I saw a lot of this - too small to read, not sorted, no title, no axes labels, ugly formatting output\n",
    "grouped_cat.plot(y='unit_price',x='category',kind='barh')"
   ]
  },
  {
   "cell_type": "code",
   "execution_count": 9,
   "id": "d9b52a3e",
   "metadata": {},
   "outputs": [],
   "source": [
    "# we can increase default figure and font sizes for easier viewing for all plots\n",
    "import matplotlib.pyplot as plt\n",
    "%matplotlib inline\n",
    "plt.rcParams['figure.figsize'] = (10, 8)\n",
    "plt.rcParams['font.size'] = 14"
   ]
  },
  {
   "cell_type": "code",
   "execution_count": 23,
   "id": "3080b15a",
   "metadata": {},
   "outputs": [
    {
     "data": {
      "image/png": "[encoded data removed]",
      "text/plain": [
       "<Figure size 720x576 with 1 Axes>"
      ]
     },
     "metadata": {
      "needs_background": "light"
     },
     "output_type": "display_data"
    }
   ],
   "source": [
    "sns.barplot(data=grouped_cat.sort_values('unit_price'),x='unit_price',y='category')\n",
    "# give it a title\n",
    "plt.title('Average Item Price Per Category')\n",
    "# use plt.show() to eliminate formatting\n",
    "plt.show()"
   ]
  },
  {
   "cell_type": "markdown",
   "id": "a8123250",
   "metadata": {},
   "source": [
    "#### 8. What is the min, max, count, mean and standard deviation price per the `item_name`?\n",
    "\n",
    "The count won't just be the length of each order's subset - there are multiple orders per row sometimes (evidenced in the quantity column)."
   ]
  },
  {
   "cell_type": "markdown",
   "id": "9aed145e",
   "metadata": {},
   "source": [
    "### Elegant solution to group by"
   ]
  },
  {
   "cell_type": "code",
   "execution_count": 25,
   "id": "c96689f2",
   "metadata": {},
   "outputs": [
    {
     "data": {
      "text/html": [
       "<div>\n",
       "<style scoped>\n",
       "    .dataframe tbody tr th:only-of-type {\n",
       "        vertical-align: middle;\n",
       "    }\n",
       "\n",
       "    .dataframe tbody tr th {\n",
       "        vertical-align: top;\n",
       "    }\n",
       "\n",
       "    .dataframe thead tr th {\n",
       "        text-align: left;\n",
       "    }\n",
       "\n",
       "    .dataframe thead tr:last-of-type th {\n",
       "        text-align: right;\n",
       "    }\n",
       "</style>\n",
       "<table border=\"1\" class=\"dataframe\">\n",
       "  <thead>\n",
       "    <tr>\n",
       "      <th></th>\n",
       "      <th></th>\n",
       "      <th colspan=\"4\" halign=\"left\">unit_price</th>\n",
       "      <th>quantity</th>\n",
       "    </tr>\n",
       "    <tr>\n",
       "      <th></th>\n",
       "      <th></th>\n",
       "      <th>min</th>\n",
       "      <th>max</th>\n",
       "      <th>std</th>\n",
       "      <th>mean</th>\n",
       "      <th>sum</th>\n",
       "    </tr>\n",
       "    <tr>\n",
       "      <th>item_name</th>\n",
       "      <th>category</th>\n",
       "      <th></th>\n",
       "      <th></th>\n",
       "      <th></th>\n",
       "      <th></th>\n",
       "      <th></th>\n",
       "    </tr>\n",
       "  </thead>\n",
       "  <tbody>\n",
       "    <tr>\n",
       "      <th>6 Pack Soft Drink</th>\n",
       "      <th>drink</th>\n",
       "      <td>6.49</td>\n",
       "      <td>6.49</td>\n",
       "      <td>0.00</td>\n",
       "      <td>6.49</td>\n",
       "      <td>55</td>\n",
       "    </tr>\n",
       "    <tr>\n",
       "      <th>Barbacoa Bowl</th>\n",
       "      <th>burrito</th>\n",
       "      <td>8.69</td>\n",
       "      <td>11.75</td>\n",
       "      <td>1.26</td>\n",
       "      <td>10.19</td>\n",
       "      <td>66</td>\n",
       "    </tr>\n",
       "    <tr>\n",
       "      <th>Barbacoa Burrito</th>\n",
       "      <th>burrito</th>\n",
       "      <td>8.69</td>\n",
       "      <td>11.75</td>\n",
       "      <td>1.14</td>\n",
       "      <td>9.83</td>\n",
       "      <td>91</td>\n",
       "    </tr>\n",
       "    <tr>\n",
       "      <th>Barbacoa Crispy Tacos</th>\n",
       "      <th>taco</th>\n",
       "      <td>8.99</td>\n",
       "      <td>11.75</td>\n",
       "      <td>1.27</td>\n",
       "      <td>10.09</td>\n",
       "      <td>12</td>\n",
       "    </tr>\n",
       "    <tr>\n",
       "      <th>Barbacoa Salad Bowl</th>\n",
       "      <th>salad</th>\n",
       "      <td>9.39</td>\n",
       "      <td>11.89</td>\n",
       "      <td>1.32</td>\n",
       "      <td>10.64</td>\n",
       "      <td>10</td>\n",
       "    </tr>\n",
       "  </tbody>\n",
       "</table>\n",
       "</div>"
      ],
      "text/plain": [
       "                               unit_price                     quantity\n",
       "                                      min    max   std   mean      sum\n",
       "item_name             category                                        \n",
       "6 Pack Soft Drink     drink          6.49   6.49  0.00   6.49       55\n",
       "Barbacoa Bowl         burrito        8.69  11.75  1.26  10.19       66\n",
       "Barbacoa Burrito      burrito        8.69  11.75  1.14   9.83       91\n",
       "Barbacoa Crispy Tacos taco           8.99  11.75  1.27  10.09       12\n",
       "Barbacoa Salad Bowl   salad          9.39  11.89  1.32  10.64       10"
      ]
     },
     "execution_count": 25,
     "metadata": {},
     "output_type": "execute_result"
    }
   ],
   "source": [
    "# Rob's solution to this question reduced grouping by multiple columns to one step\n",
    "agg_chipotle = chipotle.groupby(['item_name','category']).agg(\n",
    "    {'unit_price' : ['min','max','std','mean'], 'quantity' : 'sum'}).round(2)\n",
    "agg_chipotle.head()"
   ]
  },
  {
   "cell_type": "code",
   "execution_count": 39,
   "id": "7fba039c",
   "metadata": {},
   "outputs": [
    {
     "data": {
      "image/png": "[encoded data removed]",
      "text/plain": [
       "<Figure size 720x576 with 1 Axes>"
      ]
     },
     "metadata": {
      "needs_background": "light"
     },
     "output_type": "display_data"
    }
   ],
   "source": [
    "# hue parameter really helpful for grouping data; sns scatterplot function adds legend by default\n",
    "sns.scatterplot(hue=[x[1] for x in agg_chipotle.index], x=agg_chipotle['unit_price']['mean'], \n",
    "                y=agg_chipotle['quantity']['sum'])\n",
    "\n",
    "plt.title('Item Mean Price vs Quantity')\n",
    "plt.xlabel('average price')\n",
    "plt.ylabel('number of orders')\n",
    "\n",
    "plt.show()"
   ]
  },
  {
   "cell_type": "code",
   "execution_count": null,
   "id": "cf998fc9",
   "metadata": {},
   "outputs": [],
   "source": []
  }
 ],
 "metadata": {
  "kernelspec": {
   "display_name": "Python 3",
   "language": "python",
   "name": "python3"
  },
  "language_info": {
   "codemirror_mode": {
    "name": "ipython",
    "version": 3
   },
   "file_extension": ".py",
   "mimetype": "text/x-python",
   "name": "python",
   "nbconvert_exporter": "python",
   "pygments_lexer": "ipython3",
   "version": "3.8.8"
  }
 },
 "nbformat": 4,
 "nbformat_minor": 5
}
